{
 "cells": [
  {
   "cell_type": "markdown",
   "metadata": {},
   "source": [
    "### Assignment B\n",
    "**Editted by LJL@PKU**"
   ]
  },
  {
   "cell_type": "markdown",
   "metadata": {},
   "source": [
    "### 28170: 算鹰"
   ]
  },
  {
   "cell_type": "code",
   "execution_count": null,
   "metadata": {},
   "outputs": [],
   "source": [
    "def count_eagles(board):\n",
    "    def dfs(x, y):\n",
    "        visited[x][y] = True\n",
    "\n",
    "        for dx, dy in [(-1, 0), (1, 0), (0, -1), (0, 1)]:\n",
    "            nx, ny = x + dx, y + dy\n",
    "            # 确保新位置在棋盘范围内，并且是己方棋子，并且未被访问\n",
    "            if 0 <= nx < 10 and 0 <= ny < 10 and board[nx][ny] == '.' and not visited[nx][ny]:\n",
    "                dfs(nx, ny)\n",
    "\n",
    "    visited = [[False] * 10 for _ in range(10)]\n",
    "    eagle_count = 0\n",
    "\n",
    "    for i in range(10):\n",
    "        for j in range(10):\n",
    "            if board[i][j] == '.' and not visited[i][j]:\n",
    "                dfs(i, j)\n",
    "                eagle_count += 1\n",
    "\n",
    "    return eagle_count\n",
    "\n",
    "grid = []\n",
    "for i in range(10):\n",
    "    grid.append(list(input()))\n",
    "print(count_eagles(grid))"
   ]
  },
  {
   "cell_type": "markdown",
   "metadata": {},
   "source": [
    "### 八皇后"
   ]
  },
  {
   "cell_type": "code",
   "execution_count": 18,
   "metadata": {},
   "outputs": [
    {
     "name": "stdout",
     "output_type": "stream",
     "text": [
      "15863724\n"
     ]
    }
   ],
   "source": [
    "ans = []\n",
    "def queen_dfs(A, cur=0):\n",
    "    if cur == len(A):\n",
    "        ans.append(''.join([str(x+1) for x in A]))\n",
    "        return\n",
    "    for col in range(len(A)): \n",
    "        for row in range(cur):\n",
    "            # 检查之前的行是否有皇后在同一列或在同一对角线上\n",
    "            if A[row] == col or abs(col - A[row]) == cur - row:\n",
    "                break\n",
    "        else:\n",
    "            A[cur] = col\n",
    "            queen_dfs(A, cur+1)\n",
    "\n",
    "queen_dfs([None]*8)\n",
    "\n",
    "for _ in range(int(input())):\n",
    "    print(ans[int(input()) - 1])"
   ]
  },
  {
   "cell_type": "markdown",
   "metadata": {},
   "source": [
    "### Pots"
   ]
  },
  {
   "cell_type": "code",
   "execution_count": null,
   "metadata": {},
   "outputs": [],
   "source": [
    "from collections import deque\n",
    "\n",
    "def bfs(a, b, c):\n",
    "    queue = deque()\n",
    "    # 初始化\n",
    "    queue.append(((0, 0), []))\n",
    "\n",
    "    visited = set()\n",
    "    visited.add((0, 0))\n",
    "    \n",
    "    while queue:\n",
    "        (current_a, current_b), operations = queue.popleft()\n",
    "\n",
    "        if current_a == c or current_b == c:\n",
    "            return operations\n",
    "        \n",
    "        # 定义可能的操作\n",
    "        possible_operations = [\n",
    "            ((a, current_b), operations + ['FILL(1)']),\n",
    "            ((current_a, b), operations + ['FILL(2)']),\n",
    "            ((0, current_b), operations + ['DROP(1)']),\n",
    "            ((current_a, 0), operations + ['DROP(2)']),\n",
    "            # b-current_b为还能往b里灌多少水，所以current_a - (b - current_b)是灌剩下的\n",
    "            ((max(0, current_a - (b - current_b)), min(b, current_b + current_a)), operations + ['POUR(1,2)']), # 要么a空了（取max因为容量不能是负数），要么b满了（取min不能超出b的容量）\n",
    "            ((min(a, current_a + current_b), max(0, current_b - (a - current_a))), operations + ['POUR(2,1)'])  # 要么a满了，要么b空了\n",
    "        ]\n",
    "        \n",
    "        # 将所有可能的操作加入队列\n",
    "        for new_state, new_operations in possible_operations:\n",
    "            if new_state not in visited:\n",
    "                visited.add(new_state)\n",
    "                queue.append((new_state, new_operations))\n",
    "    \n",
    "    return None\n",
    "\n",
    "A, B, C = map(int, input().split())\n",
    "result = bfs(A, B, C)\n",
    "if result is None:\n",
    "    print(\"impossible\")\n",
    "else:\n",
    "    print(len(result))\n",
    "    for operation in result:\n",
    "        print(operation)"
   ]
  },
  {
   "cell_type": "markdown",
   "metadata": {},
   "source": [
    "### 05907：二叉树的操作"
   ]
  },
  {
   "cell_type": "code",
   "execution_count": 24,
   "metadata": {},
   "outputs": [
    {
     "name": "stdout",
     "output_type": "stream",
     "text": [
      "1\n",
      "3\n",
      "4\n",
      "2\n"
     ]
    }
   ],
   "source": [
    "class TreeNode:\n",
    "    def __init__(self, val):\n",
    "        self.val = val\n",
    "        self.left = None\n",
    "        self.right = None\n",
    "        self.parent = None\n",
    "\n",
    "def find_leftmost(node):\n",
    "    while node.left:\n",
    "        node = node.left\n",
    "    return node.val\n",
    "\n",
    "def swap_nodes(nodes, x, y):\n",
    "    node_x, node_y = nodes[x], nodes[y]\n",
    "    parent_x, parent_y = node_x.parent, node_y.parent\n",
    "\n",
    "    # 如果两个节点是兄弟节点\n",
    "    if parent_x == parent_y:\n",
    "        if parent_x.left == node_x:\n",
    "            parent_x.left, parent_x.right = node_y, node_x\n",
    "        else:\n",
    "            parent_x.left, parent_x.right = node_x, node_y #同样的父节点记得要交换回去\n",
    "        return\n",
    "\n",
    "    # 更新父节点的子节点引用\n",
    "    if parent_x:\n",
    "        if parent_x.left == node_x:\n",
    "            parent_x.left = node_y\n",
    "        elif parent_x.right == node_x:\n",
    "            parent_x.right = node_y\n",
    "\n",
    "    if parent_y:\n",
    "        if parent_y.left == node_y:\n",
    "            parent_y.left = node_x\n",
    "        elif parent_y.right == node_y:\n",
    "            parent_y.right = node_x\n",
    "\n",
    "    # 更新节点的父节点引用\n",
    "    node_x.parent, node_y.parent = parent_y, parent_x\n",
    "\n",
    "def traverse(root):\n",
    "    # Helper function to traverse tree and collect nodes\n",
    "    if root is None:\n",
    "        return []\n",
    "    return traverse(root.left) + [root] + traverse(root.right)\n",
    "\n",
    "cases = int(input())\n",
    "for case in range(cases):\n",
    "    n, m = map(int, input().split())\n",
    "    nodes = {i: TreeNode(i) for i in range(n)}\n",
    "    root = nodes[0]\n",
    "    for i in range(n):\n",
    "        X, Y, Z = map(int, input().split())\n",
    "        if Y != -1:\n",
    "            nodes[X].left = nodes[Y]\n",
    "            nodes[Y].parent = nodes[X]\n",
    "        if Z != -1:\n",
    "            nodes[X].right = nodes[Z]\n",
    "            nodes[Z].parent = nodes[X]\n",
    "    for j in range(m):\n",
    "        operations = input().split()\n",
    "        if int(operations[0]) == 1:\n",
    "            x, y = int(operations[1]), int(operations[2])\n",
    "            swap_nodes(nodes, x, y)\n",
    "        if int(operations[0]) == 2:\n",
    "            res = find_leftmost(nodes[int(operations[1])])\n",
    "            print(res)"
   ]
  },
  {
   "cell_type": "markdown",
   "metadata": {},
   "source": [
    "### 18250：冰阔落 I"
   ]
  },
  {
   "cell_type": "code",
   "execution_count": 4,
   "metadata": {},
   "outputs": [
    {
     "name": "stdout",
     "output_type": "stream",
     "text": [
      "No\n",
      "Yes\n",
      "2\n",
      "1 3\n",
      "No\n",
      "No\n",
      "2\n",
      "1 4\n"
     ]
    },
    {
     "ename": "ValueError",
     "evalue": "not enough values to unpack (expected 2, got 0)",
     "output_type": "error",
     "traceback": [
      "\u001b[0;31m---------------------------------------------------------------------------\u001b[0m",
      "\u001b[0;31mValueError\u001b[0m                                Traceback (most recent call last)",
      "Cell \u001b[0;32mIn[4], line 25\u001b[0m\n\u001b[1;32m     23\u001b[0m \u001b[38;5;28;01mwhile\u001b[39;00m \u001b[38;5;28;01mTrue\u001b[39;00m:\n\u001b[1;32m     24\u001b[0m     \u001b[38;5;28;01mtry\u001b[39;00m:\n\u001b[0;32m---> 25\u001b[0m         n, m \u001b[38;5;241m=\u001b[39m \u001b[38;5;28mmap\u001b[39m(\u001b[38;5;28mint\u001b[39m, \u001b[38;5;28minput\u001b[39m()\u001b[38;5;241m.\u001b[39msplit())\n\u001b[1;32m     26\u001b[0m         uf \u001b[38;5;241m=\u001b[39m UnionFind(n \u001b[38;5;241m+\u001b[39m \u001b[38;5;241m1\u001b[39m)\n\u001b[1;32m     27\u001b[0m         \u001b[38;5;28;01mfor\u001b[39;00m i \u001b[38;5;129;01min\u001b[39;00m \u001b[38;5;28mrange\u001b[39m(m):\n",
      "\u001b[0;31mValueError\u001b[0m: not enough values to unpack (expected 2, got 0)"
     ]
    }
   ],
   "source": [
    "class UnionFind:\n",
    "    def __init__(self, size):\n",
    "        self.parent = list(range(size))\n",
    "        self.rank = [1] * size\n",
    "\n",
    "    def find(self, p):\n",
    "        if self.parent[p] != p:\n",
    "            self.parent[p] = self.find(self.parent[p])\n",
    "        return self.parent[p]\n",
    "\n",
    "    def union(self, p, q):\n",
    "        rootP = self.find(p)\n",
    "        rootQ = self.find(q)\n",
    "        if rootP != rootQ:\n",
    "            if self.rank[rootP] > self.rank[rootQ]:\n",
    "                self.parent[rootQ] = rootP\n",
    "            elif self.rank[rootP] < self.rank[rootQ]:\n",
    "                self.parent[rootP] = rootQ\n",
    "            else:\n",
    "                self.parent[rootQ] = rootP\n",
    "                self.rank[rootP] += 1\n",
    "\n",
    "while True:\n",
    "    try:\n",
    "        n, m = map(int, input().split())\n",
    "        uf = UnionFind(n + 1)\n",
    "        for i in range(m):\n",
    "            x, y = map(int, input().split())\n",
    "            if uf.find(x) == uf.find(y):\n",
    "                print(\"Yes\")\n",
    "            else:\n",
    "                print(\"No\")\n",
    "                uf.union(x, y)\n",
    "        unique_roots = set()\n",
    "        for i in range(1, n + 1):\n",
    "            root = uf.find(i)\n",
    "            unique_roots.add(root)\n",
    "        print(len(unique_roots))\n",
    "        print(\" \".join(map(str, sorted(unique_roots))))\n",
    "        \n",
    "    except EOFError:\n",
    "        break"
   ]
  },
  {
   "cell_type": "code",
   "execution_count": null,
   "metadata": {},
   "outputs": [],
   "source": [
    "def find(x):\n",
    "    if parent[x] != x:\n",
    "        parent[x] = find(parent[x])\n",
    "    return parent[x]\n",
    "\n",
    "def union(x, y):\n",
    "    root_x = find(x)\n",
    "    root_y = find(y)\n",
    "    if root_x != root_y:\n",
    "        parent[root_y] = root_x\n",
    "\n",
    "while True:\n",
    "    try:\n",
    "        n, m = map(int, input().split())\n",
    "        parent = list(range(n + 1))\n",
    "\n",
    "        for _ in range(m):\n",
    "            a, b = map(int, input().split())\n",
    "            if find(a) == find(b):\n",
    "                print('Yes')\n",
    "            else:\n",
    "                print('No')\n",
    "                union(a, b)\n",
    "\n",
    "        unique_parents = set(find(x) for x in range(1, n + 1))  # 获取不同集合的根节点\n",
    "        ans = sorted(unique_parents)  # 输出有冰阔落的杯子编号\n",
    "        print(len(ans))\n",
    "        print(*ans)\n",
    "\n",
    "    except EOFError:\n",
    "        break"
   ]
  },
  {
   "cell_type": "markdown",
   "metadata": {},
   "source": [
    "### 05443:兔子与樱花"
   ]
  },
  {
   "cell_type": "code",
   "execution_count": 8,
   "metadata": {},
   "outputs": [
    {
     "ename": "TypeError",
     "evalue": "unsupported operand type(s) for +: 'int' and 'str'",
     "output_type": "error",
     "traceback": [
      "\u001b[0;31m---------------------------------------------------------------------------\u001b[0m",
      "\u001b[0;31mTypeError\u001b[0m                                 Traceback (most recent call last)",
      "Cell \u001b[0;32mIn[8], line 57\u001b[0m\n\u001b[1;32m     55\u001b[0m \u001b[38;5;28;01mfor\u001b[39;00m i \u001b[38;5;129;01min\u001b[39;00m \u001b[38;5;28mrange\u001b[39m(R):\n\u001b[1;32m     56\u001b[0m     start, end \u001b[38;5;241m=\u001b[39m \u001b[38;5;28minput\u001b[39m()\u001b[38;5;241m.\u001b[39msplit()\n\u001b[0;32m---> 57\u001b[0m     path \u001b[38;5;241m=\u001b[39m \u001b[43mdijkstra\u001b[49m\u001b[43m(\u001b[49m\u001b[43mgraph\u001b[49m\u001b[43m,\u001b[49m\u001b[43m \u001b[49m\u001b[43mstart\u001b[49m\u001b[43m,\u001b[49m\u001b[43m \u001b[49m\u001b[43mend\u001b[49m\u001b[43m)\u001b[49m\n\u001b[1;32m     58\u001b[0m     \u001b[38;5;28mprint\u001b[39m(path)\n",
      "Cell \u001b[0;32mIn[8], line 22\u001b[0m, in \u001b[0;36mdijkstra\u001b[0;34m(graph, start, end)\u001b[0m\n\u001b[1;32m     20\u001b[0m \u001b[38;5;66;03m# 遍历当前顶点的邻接顶点\u001b[39;00m\n\u001b[1;32m     21\u001b[0m \u001b[38;5;28;01mfor\u001b[39;00m neighbor, weight \u001b[38;5;129;01min\u001b[39;00m graph[current_vertex]\u001b[38;5;241m.\u001b[39mitems():\n\u001b[0;32m---> 22\u001b[0m     distance \u001b[38;5;241m=\u001b[39m \u001b[43mcurrent_dist\u001b[49m\u001b[43m \u001b[49m\u001b[38;5;241;43m+\u001b[39;49m\u001b[43m \u001b[49m\u001b[43mweight\u001b[49m\n\u001b[1;32m     24\u001b[0m     \u001b[38;5;66;03m# 如果找到更短的路径，则更新\u001b[39;00m\n\u001b[1;32m     25\u001b[0m     \u001b[38;5;28;01mif\u001b[39;00m distance \u001b[38;5;241m<\u001b[39m dist[neighbor]:\n",
      "\u001b[0;31mTypeError\u001b[0m: unsupported operand type(s) for +: 'int' and 'str'"
     ]
    }
   ],
   "source": [
    "import heapq\n",
    "\n",
    "def dijkstra(graph, start, end):\n",
    "    if start == end:\n",
    "        return f\"{start}\"\n",
    "\n",
    "    # 初始化距离字典和路径字典\n",
    "    dist = {vertex: float('inf') for vertex in graph}\n",
    "    dist[start] = 0\n",
    "    path = {vertex: ([]) for vertex in graph}\n",
    "    path[start] = [(start, 0)]  # 起点没有前一个节点，距离为0\n",
    "\n",
    "    # 优先队列，用于存储待处理的顶点和距离\n",
    "    priority_queue = []\n",
    "    heapq.heappush(priority_queue, (0, start))\n",
    "\n",
    "    while priority_queue:\n",
    "        current_dist, current_vertex = heapq.heappop(priority_queue)\n",
    "\n",
    "        # 遍历当前顶点的邻接顶点\n",
    "        for neighbor, weight in graph[current_vertex].items():\n",
    "            distance = current_dist + weight\n",
    "\n",
    "            # 如果找到更短的路径，则更新\n",
    "            if distance < dist[neighbor]:\n",
    "                dist[neighbor] = distance\n",
    "                path[neighbor] = path[current_vertex] + [(neighbor, weight)]\n",
    "                heapq.heappush(priority_queue, (distance, neighbor))\n",
    "\n",
    "        # 如果当前顶点是终点，格式化输出路径\n",
    "        if current_vertex == end:\n",
    "            return format_path(path[end])\n",
    "\n",
    "    # 如果终点不可达，返回空字符串\n",
    "    return \"\"\n",
    "\n",
    "def format_path(path):\n",
    "    if not path:\n",
    "        return \"\"\n",
    "    formatted_path = path[0][0]  # 起始节点\n",
    "    for vertex, weight in path[1:]:\n",
    "        formatted_path += f\"->({weight})->{vertex}\"\n",
    "    return formatted_path\n",
    "\n",
    "P = int(input())\n",
    "graph = {} \n",
    "graph = {input(): {} for _ in range(P)}\n",
    "\n",
    "Q = int(input())\n",
    "for i in range(Q):\n",
    "    start, end, cost = input().split()\n",
    "    graph[start][end] = graph[end][start] = int(cost)\n",
    "\n",
    "R = int(input())\n",
    "for i in range(R):\n",
    "    start, end = input().split()\n",
    "    path = dijkstra(graph, start, end)\n",
    "    print(path)"
   ]
  }
 ],
 "metadata": {
  "kernelspec": {
   "display_name": "py310",
   "language": "python",
   "name": "python3"
  },
  "language_info": {
   "codemirror_mode": {
    "name": "ipython",
    "version": 3
   },
   "file_extension": ".py",
   "mimetype": "text/x-python",
   "name": "python",
   "nbconvert_exporter": "python",
   "pygments_lexer": "ipython3",
   "version": "3.10.9"
  }
 },
 "nbformat": 4,
 "nbformat_minor": 2
}
