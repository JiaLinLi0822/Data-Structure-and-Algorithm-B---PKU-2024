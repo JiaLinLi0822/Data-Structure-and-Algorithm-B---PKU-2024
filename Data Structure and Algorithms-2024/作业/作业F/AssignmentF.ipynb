{
 "cells": [
  {
   "cell_type": "markdown",
   "metadata": {},
   "source": [
    "### Assignment F\n",
    "**LJL@PKU**"
   ]
  },
  {
   "cell_type": "markdown",
   "metadata": {},
   "source": [
    "### 22485: 升空的焰火，从侧面看"
   ]
  },
  {
   "cell_type": "code",
   "execution_count": 3,
   "metadata": {},
   "outputs": [
    {
     "name": "stdout",
     "output_type": "stream",
     "text": [
      "1 3 4 "
     ]
    }
   ],
   "source": [
    "class Node:\n",
    "    def __init__(self, value):\n",
    "        self.value = value\n",
    "        self.left = None\n",
    "        self.right = None\n",
    "\n",
    "def bfs(node):\n",
    "    queue = [node]\n",
    "    while queue:\n",
    "        level_length = len(queue)\n",
    "        for i in range(level_length):\n",
    "            current = queue.pop(0)\n",
    "            # 如果是当前层的最后一个节点，进行输出\n",
    "            if i == level_length - 1:\n",
    "                print(current.value + 1, end=' ')\n",
    "            if current.left:\n",
    "                queue.append(current.left)\n",
    "            if current.right:\n",
    "                queue.append(current.right)\n",
    "\n",
    "\n",
    "N = int(input())\n",
    "nodes = [Node(i) for i in range(N)]\n",
    "for i in range(N):\n",
    "    left, right = map(int, input().split())\n",
    "    if left != -1:\n",
    "        nodes[i].left = nodes[left - 1]\n",
    "    if right != -1:\n",
    "        nodes[i].right = nodes[right - 1]\n",
    "\n",
    "bfs(nodes[0])\n"
   ]
  },
  {
   "cell_type": "markdown",
   "metadata": {},
   "source": [
    "### 28203:【模版】单调栈"
   ]
  },
  {
   "cell_type": "code",
   "execution_count": 20,
   "metadata": {},
   "outputs": [
    {
     "name": "stdout",
     "output_type": "stream",
     "text": [
      "2 5 4 5 0\n"
     ]
    }
   ],
   "source": [
    "n = int(input())\n",
    "nums = list(map(int, input().split()))\n",
    "stack = []\n",
    "f = [0] * n\n",
    "\n",
    "for i in range(n-1, -1, -1):\n",
    "    while stack and nums[stack[-1]] <= nums[i]:\n",
    "        stack.pop()\n",
    "\n",
    "    if stack:\n",
    "        f[i] = stack[-1] + 1\n",
    "    \n",
    "    stack.append(i)\n",
    "\n",
    "# print(' '.join(map(str, f)))\n",
    "print(*f)"
   ]
  },
  {
   "cell_type": "code",
   "execution_count": 17,
   "metadata": {},
   "outputs": [
    {
     "name": "stdout",
     "output_type": "stream",
     "text": [
      "2 5 4 5 0\n"
     ]
    }
   ],
   "source": [
    "def find_next_greater_elements(n, a):\n",
    "    f = [0] * n\n",
    "    stack = []\n",
    "\n",
    "    for i in range(n):\n",
    "        # 如果当前元素大于栈顶元素对应的元素，则更新f[stack[-1]]\n",
    "        while stack and a[i] > a[stack[-1]]:\n",
    "            index = stack.pop()\n",
    "            f[index] = i + 1  # 更新f值，注意要+1，因为题目要求1-based index\n",
    "\n",
    "        # 把当前元素下标压入栈中\n",
    "        stack.append(i)\n",
    "\n",
    "    return f\n",
    "\n",
    "# 输入读取部分\n",
    "n = int(input())\n",
    "a = list(map(int, input().split()))\n",
    "\n",
    "# 调用函数计算结果\n",
    "result = find_next_greater_elements(n, a)\n",
    "\n",
    "# 输出结果\n",
    "print(\" \".join(map(str, result)))\n"
   ]
  },
  {
   "cell_type": "code",
   "execution_count": 7,
   "metadata": {},
   "outputs": [
    {
     "name": "stdout",
     "output_type": "stream",
     "text": [
      "2 5 4 5 0\n"
     ]
    }
   ],
   "source": [
    "def find_next_greater_elements(n, a):\n",
    "    f = [0] * n\n",
    "    stack = []\n",
    "\n",
    "    # Traverse the array from right to left\n",
    "    for i in range(n-1, -1, -1):\n",
    "        # Maintain elements in the stack such that they are greater than a[i]\n",
    "        while stack and a[stack[-1]] <= a[i]:\n",
    "            stack.pop()\n",
    "        \n",
    "        # If stack is not empty, the top element is the next greater element\n",
    "        if stack:\n",
    "            f[i] = stack[-1] + 1  # +1 because we need 1-based index\n",
    "\n",
    "        # Push current element index into the stack\n",
    "        stack.append(i)\n",
    "\n",
    "    return f\n",
    "\n",
    "# Input reading\n",
    "n = int(input())\n",
    "a = list(map(int, input().split()))\n",
    "\n",
    "# Function call\n",
    "result = find_next_greater_elements(n, a)\n",
    "\n",
    "# Output the result\n",
    "print(\" \".join(map(str, result)))\n"
   ]
  },
  {
   "cell_type": "markdown",
   "metadata": {},
   "source": [
    "### 09202:舰队、海域出击！"
   ]
  },
  {
   "cell_type": "code",
   "execution_count": 25,
   "metadata": {},
   "outputs": [
    {
     "name": "stdout",
     "output_type": "stream",
     "text": [
      "No\n"
     ]
    }
   ],
   "source": [
    "def hasLoop(G): # G 是邻接表,顶点编号从 0 开始，判断有无回路\n",
    "     n = len(G)\n",
    "     visited = [False for _ in range(n)]\n",
    "\n",
    "     def dfs(v, x): # 返回值表示本次 dfs 是否找到回路,x 是深度优先搜索树上 v 的父结点\n",
    "         visited[v] = True\n",
    "         for u in G[v]:\n",
    "             if visited[u] == True: # 如果 u 已经访问过\n",
    "                 if u != x: # u 不是 v 的父结点\n",
    "                     return True\n",
    "             else: # 如果 u 没有访问过\n",
    "                 if dfs(u, v): # 递归调用 dfs\n",
    "                     return True\n",
    "         return False\n",
    "\n",
    "     for i in range(n):\n",
    "         if not visited[i]:\n",
    "             if dfs(i, -1):\n",
    "                 return True\n",
    "     return False\n",
    "\n",
    "T = int(input())\n",
    "for i in range(T):\n",
    "    N, M = map(int, input().split())\n",
    "    G = [[] for _ in range(N)]\n",
    "    for j in range(M):\n",
    "        u, v = map(int, input().split()) \n",
    "        G[u - 1].append(v - 1)\n",
    "\n",
    "    if hasLoop(G):\n",
    "        print(\"Yes\")\n",
    "    else:\n",
    "        print(\"No\")"
   ]
  },
  {
   "cell_type": "code",
   "execution_count": null,
   "metadata": {},
   "outputs": [],
   "source": [
    "def hasLoop(G): # G 是邻接表，顶点编号从0开始，判断有无回路\n",
    "    n = len(G)\n",
    "    visited = [False] * n\n",
    "    recStack = [False] * n  # 递归栈\n",
    "\n",
    "    def dfs(v): # 返回值表示本次dfs是否找到回路\n",
    "        visited[v] = True\n",
    "        recStack[v] = True\n",
    "\n",
    "        for u in G[v]:\n",
    "            if not visited[u]:\n",
    "                if dfs(u):\n",
    "                    return True\n",
    "            elif recStack[u]:\n",
    "                return True\n",
    "\n",
    "        recStack[v] = False\n",
    "        return False\n",
    "\n",
    "    for i in range(n):\n",
    "        if not visited[i]:\n",
    "            if dfs(i):\n",
    "                return True\n",
    "\n",
    "    return False\n",
    "\n",
    "T = int(input())\n",
    "for _ in range(T):\n",
    "    N, M = map(int, input().split())\n",
    "    G = [[] for _ in range(N)]\n",
    "    for _ in range(M):\n",
    "        u, v = map(int, input().split())\n",
    "        G[u - 1].append(v - 1)\n",
    "\n",
    "    if hasLoop(G):\n",
    "        print(\"Yes\")\n",
    "    else:\n",
    "        print(\"No\")\n"
   ]
  },
  {
   "cell_type": "markdown",
   "metadata": {},
   "source": [
    "### 04135：月度开销"
   ]
  },
  {
   "cell_type": "code",
   "execution_count": 26,
   "metadata": {},
   "outputs": [
    {
     "name": "stdout",
     "output_type": "stream",
     "text": [
      "500 1200 1901\n",
      "500 850 1200\n",
      "500 675 850\n",
      "500 587 675\n",
      "500 543 587\n",
      "500 521 543\n",
      "500 510 521\n",
      "500 505 510\n",
      "500 502 505\n",
      "500 501 502\n",
      "500 500 501\n",
      "500\n"
     ]
    }
   ],
   "source": [
    "def canSplit(expenses, N, M, max_expense):\n",
    "    \"\"\"\n",
    "    检查是否可以把开销数组分成不多于M组，每组的和不超过max_expense\n",
    "    \"\"\"\n",
    "    current_sum = 0\n",
    "    count = 1  # 至少有一组\n",
    "\n",
    "    for i in range(N):\n",
    "        if current_sum + expenses[i] > max_expense:\n",
    "            count += 1\n",
    "            current_sum = expenses[i]\n",
    "            if count > M:\n",
    "                return False\n",
    "        else:\n",
    "            current_sum += expenses[i]\n",
    "            \n",
    "    return True\n",
    "\n",
    "def findMinMaxExpense(expenses, N, M):\n",
    "    \"\"\"\n",
    "    使用二分查找找到最小的最大开销\n",
    "    \"\"\"\n",
    "    left = max(expenses)  # 单天最大的开销\n",
    "    right = sum(expenses)  # 所有天开销之和\n",
    "\n",
    "    while left < right:\n",
    "        mid = (left + right) // 2\n",
    "        if canSplit(expenses, N, M, mid):\n",
    "            right = mid\n",
    "        else:\n",
    "            left = mid + 1\n",
    "    \n",
    "    return left\n",
    "\n",
    "N, M = map(int, input().split())\n",
    "expenses = []\n",
    "for _ in range(N):\n",
    "    expenses.append(int(input().strip()))\n",
    "\n",
    "result = findMinMaxExpense(expenses, N, M)\n",
    "print(result)"
   ]
  },
  {
   "cell_type": "markdown",
   "metadata": {},
   "source": [
    "### 07735：道路"
   ]
  },
  {
   "cell_type": "code",
   "execution_count": 1,
   "metadata": {},
   "outputs": [
    {
     "name": "stdout",
     "output_type": "stream",
     "text": [
      "11\n"
     ]
    }
   ],
   "source": [
    "import heapq\n",
    "\n",
    "def find_shortest_path(K, N, R, roads):\n",
    "    # 创建图的邻接表表示\n",
    "    graph = [[] for _ in range(N + 1)]\n",
    "    for S, D, L, T in roads:\n",
    "        graph[S].append((D, L, T))\n",
    "    \n",
    "    # 优先队列：元素为 (路径长度, 当前城市, 已花费金币)\n",
    "    pq = [(0, 1, 0)]\n",
    "    # 距离数组：dp[i][j]表示到达城市i且花费j金币的最短路径长度\n",
    "    dp = [[float('inf')] * (K + 1) for _ in range(N + 1)]\n",
    "    dp[1][0] = 0\n",
    "\n",
    "    while pq:\n",
    "        current_length, current_city, current_cost = heapq.heappop(pq)\n",
    "        \n",
    "        # 如果已经找到到达终点的最短路径\n",
    "        if current_city == N:\n",
    "            return current_length\n",
    "        \n",
    "        # 遍历当前城市的所有邻接节点\n",
    "        for neighbor, length, cost in graph[current_city]:\n",
    "            new_cost = current_cost + cost\n",
    "            new_length = current_length + length\n",
    "            \n",
    "            # 如果新花费不超过K并且可以更新到达邻接城市的最短路径\n",
    "            if new_cost <= K and new_length < dp[neighbor][new_cost]:\n",
    "                dp[neighbor][new_cost] = new_length\n",
    "                heapq.heappush(pq, (new_length, neighbor, new_cost))\n",
    "    \n",
    "    # 检查到达城市N的所有可能的最短路径\n",
    "    shortest_path = min(dp[N])\n",
    "    return shortest_path if shortest_path != float('inf') else -1\n",
    "\n",
    "K = int(input().strip())\n",
    "N = int(input().strip())\n",
    "R = int(input().strip())\n",
    "\n",
    "roads = []\n",
    "for _ in range(R):\n",
    "    S, D, L, T = map(int, input().strip().split())\n",
    "    roads.append((S, D, L, T))\n",
    "\n",
    "result = find_shortest_path(K, N, R, roads)\n",
    "print(result)"
   ]
  },
  {
   "cell_type": "markdown",
   "metadata": {},
   "source": [
    "### 01182：食物链"
   ]
  },
  {
   "cell_type": "code",
   "execution_count": 3,
   "metadata": {},
   "outputs": [
    {
     "name": "stdout",
     "output_type": "stream",
     "text": [
      "1 101 1\n",
      "2 3 3\n",
      "1 1 3\n",
      "3\n"
     ]
    }
   ],
   "source": [
    "class UnionFind:\n",
    "    def __init__(self, n):\n",
    "        self.parent = list(range(n))\n",
    "        self.rank = [0] * n\n",
    "\n",
    "    def find(self, x):\n",
    "        if self.parent[x] != x:\n",
    "            original_parent = self.parent[x]\n",
    "            self.parent[x] = self.find(self.parent[x])\n",
    "            self.rank[x] = (self.rank[x] + self.rank[original_parent]) % 3\n",
    "        return self.parent[x]\n",
    "\n",
    "    def union(self, x, y, relation):\n",
    "        rootX = self.find(x)\n",
    "        rootY = self.find(y)\n",
    "        if rootX == rootY:\n",
    "            return (self.rank[x] - self.rank[y] - relation) % 3 == 0\n",
    "        else:\n",
    "            self.parent[rootX] = rootY\n",
    "            self.rank[rootX] = (self.rank[y] + relation - self.rank[x]) % 3\n",
    "            return True\n",
    "\n",
    "def solve(N, K, statements):\n",
    "    uf = UnionFind(N + 1)\n",
    "    false_statements = 0\n",
    "\n",
    "    for d, x, y in statements:\n",
    "        if x > N or y > N or (d == 2 and x == y):\n",
    "            false_statements += 1\n",
    "            continue\n",
    "        if d == 1:\n",
    "            if not uf.union(x, y, 0):\n",
    "                false_statements += 1\n",
    "        elif d == 2:\n",
    "            if not uf.union(x, y, 1):\n",
    "                false_statements += 1\n",
    "\n",
    "    return false_statements\n",
    "\n",
    "N, K = map(int, input().split())    \n",
    "statements = []\n",
    "\n",
    "index = 2\n",
    "for _ in range(K):\n",
    "    d, x, y = map(int, input().split())\n",
    "    statements.append((d, x, y))\n",
    "    index += 3\n",
    "\n",
    "print(solve(N, K, statements))\n"
   ]
  },
  {
   "cell_type": "code",
   "execution_count": 2,
   "metadata": {},
   "outputs": [
    {
     "data": {
      "text/plain": [
       "-1"
      ]
     },
     "execution_count": 2,
     "metadata": {},
     "output_type": "execute_result"
    }
   ],
   "source": [
    "-1//3"
   ]
  }
 ],
 "metadata": {
  "kernelspec": {
   "display_name": "py310",
   "language": "python",
   "name": "python3"
  },
  "language_info": {
   "codemirror_mode": {
    "name": "ipython",
    "version": 3
   },
   "file_extension": ".py",
   "mimetype": "text/x-python",
   "name": "python",
   "nbconvert_exporter": "python",
   "pygments_lexer": "ipython3",
   "version": "3.10.9"
  }
 },
 "nbformat": 4,
 "nbformat_minor": 2
}
