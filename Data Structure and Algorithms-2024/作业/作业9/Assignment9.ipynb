{
 "cells": [
  {
   "cell_type": "markdown",
   "metadata": {},
   "source": [
    "# Assignment 9\n",
    "**Edited by LJL@PKU**"
   ]
  },
  {
   "cell_type": "markdown",
   "metadata": {},
   "source": [
    "### 04081：树的转换"
   ]
  },
  {
   "cell_type": "code",
   "execution_count": 4,
   "metadata": {},
   "outputs": [
    {
     "name": "stdout",
     "output_type": "stream",
     "text": [
      "2 => 4\n"
     ]
    }
   ],
   "source": [
    "def height(s):\n",
    "    max_old = 0\n",
    "    max_new = 0\n",
    "    old_height = 0\n",
    "    new_height = 0\n",
    "    stack = []\n",
    "    for c in s:\n",
    "        if c == 'd':\n",
    "            old_height += 1\n",
    "            max_old = max(max_old, old_height)\n",
    "\n",
    "            new_height += 1\n",
    "            stack.append(new_height)\n",
    "            max_new = max(max_new, new_height)\n",
    "        \n",
    "        else:\n",
    "            old_height -= 1\n",
    "\n",
    "            new_height = stack.pop()\n",
    "    return max_old, max_new\n",
    "\n",
    "s = input()\n",
    "old, new = height(s)\n",
    "print('{}'.format(old) + ' => ' + '{}'.format(new))\n"
   ]
  },
  {
   "cell_type": "markdown",
   "metadata": {},
   "source": [
    "### 08581:扩展二叉树"
   ]
  },
  {
   "cell_type": "code",
   "execution_count": 12,
   "metadata": {},
   "outputs": [
    {
     "name": "stdout",
     "output_type": "stream",
     "text": [
      "DBFEGAC\n",
      "DFGEBCA\n"
     ]
    }
   ],
   "source": [
    "class TreeNode():\n",
    "    def __init__(self, x):\n",
    "        self.val = x\n",
    "        self.left = None\n",
    "        self.right = None\n",
    "\n",
    "def build_tree(seq):\n",
    "    if not seq or seq[0] == '.':\n",
    "        return None, seq[1:]\n",
    "    \n",
    "    root = TreeNode(seq[0])\n",
    "    root.left, seq = build_tree(seq[1:])\n",
    "    root.right, seq = build_tree(seq)\n",
    "\n",
    "    return root, seq\n",
    "\n",
    "def inorder(root):\n",
    "    if root is None:\n",
    "        return []\n",
    "    \n",
    "    res = []\n",
    "    res.extend(inorder(root.left))\n",
    "    res.append(root.val)\n",
    "    res.extend(inorder(root.right))\n",
    "\n",
    "    return res\n",
    "\n",
    "def postorder(root):\n",
    "    if root is None:\n",
    "        return []\n",
    "    \n",
    "    res = []\n",
    "    res.extend(postorder(root.left))\n",
    "    res.extend(postorder(root.right))\n",
    "    res.append(root.val)\n",
    "\n",
    "    return res\n",
    "\n",
    "s = input()\n",
    "root, _ = build_tree(s)\n",
    "res1 = inorder(root)\n",
    "res2 = postorder(root)\n",
    "print(''.join([str(x) for x in res1]))\n",
    "print(''.join([str(x) for x in res2]))\n"
   ]
  },
  {
   "cell_type": "code",
   "execution_count": 5,
   "metadata": {},
   "outputs": [
    {
     "name": "stdout",
     "output_type": "stream",
     "text": [
      "\n",
      "DBFEGAC\n",
      "DFGEBCA\n"
     ]
    }
   ],
   "source": [
    "def build_tree(preorder):\n",
    "    if not preorder or preorder[0] == '.':\n",
    "        return None, preorder[1:]\n",
    "    root = preorder[0]\n",
    "    left, preorder = build_tree(preorder[1:])\n",
    "    right, preorder = build_tree(preorder)\n",
    "    return (root, left, right), preorder\n",
    "\n",
    "def inorder(tree):\n",
    "    if tree is None:\n",
    "        return ''\n",
    "    root, left, right = tree\n",
    "    return inorder(left) + root + inorder(right)\n",
    "\n",
    "def postorder(tree):\n",
    "    if tree is None:\n",
    "        return ''\n",
    "    root, left, right = tree\n",
    "    return postorder(left) + postorder(right) + root\n",
    "\n",
    "# 输入处理\n",
    "preorder = input().strip()\n",
    "\n",
    "# 构建扩展二叉树\n",
    "tree, _ = build_tree(preorder)\n",
    "\n",
    "# 输出结果\n",
    "print(inorder(tree))\n",
    "print(postorder(tree))"
   ]
  },
  {
   "cell_type": "markdown",
   "metadata": {},
   "source": [
    "### 22067：快速堆猪"
   ]
  },
  {
   "cell_type": "code",
   "execution_count": 26,
   "metadata": {},
   "outputs": [
    {
     "name": "stdout",
     "output_type": "stream",
     "text": [
      "2\n",
      "2\n"
     ]
    }
   ],
   "source": [
    "import heapq\n",
    "from collections import defaultdict\n",
    "\n",
    "pigs_heap = []\n",
    "pigs_stack = []\n",
    "out = defaultdict(int)\n",
    "\n",
    "while True:\n",
    "    try:\n",
    "        c = input().split()\n",
    "        if c[0] == 'pop':\n",
    "            if pigs_stack:\n",
    "                out[pigs_stack.pop()] += 1\n",
    "        elif c[0] == 'push':\n",
    "            pigs_stack.append(int(c[1]))\n",
    "            heapq.heappush(pigs_heap, int(c[1]))\n",
    "        elif c[0] == 'min':\n",
    "            if pigs_stack:\n",
    "                while True:\n",
    "                    x = heapq.heappop(pigs_heap)\n",
    "                    # 如果还没有被弹出来过，把它再放回去，跳出循环\n",
    "                    if not out[x]:\n",
    "                        heapq.heappush(pigs_heap, x)\n",
    "                        print(x)\n",
    "                        break\n",
    "                    out[x] -= 1      \n",
    "    except EOFError:\n",
    "        break\n"
   ]
  },
  {
   "cell_type": "markdown",
   "metadata": {},
   "source": [
    "### 04123：马走日"
   ]
  },
  {
   "cell_type": "code",
   "execution_count": 33,
   "metadata": {},
   "outputs": [
    {
     "ename": "UnboundLocalError",
     "evalue": "local variable 'ans' referenced before assignment",
     "output_type": "error",
     "traceback": [
      "\u001b[0;31m---------------------------------------------------------------------------\u001b[0m",
      "\u001b[0;31mUnboundLocalError\u001b[0m                         Traceback (most recent call last)",
      "Cell \u001b[0;32mIn[33], line 23\u001b[0m\n\u001b[1;32m     21\u001b[0m n, m, x, y \u001b[38;5;241m=\u001b[39m \u001b[38;5;28mmap\u001b[39m(\u001b[38;5;28mint\u001b[39m, \u001b[38;5;28minput\u001b[39m()\u001b[38;5;241m.\u001b[39msplit())\n\u001b[1;32m     22\u001b[0m env \u001b[38;5;241m=\u001b[39m [[\u001b[38;5;241m0\u001b[39m]\u001b[38;5;241m*\u001b[39mm \u001b[38;5;28;01mfor\u001b[39;00m _ \u001b[38;5;129;01min\u001b[39;00m \u001b[38;5;28mrange\u001b[39m(n)]\n\u001b[0;32m---> 23\u001b[0m ans \u001b[38;5;241m=\u001b[39m \u001b[43mmove\u001b[49m\u001b[43m(\u001b[49m\u001b[43mx\u001b[49m\u001b[43m,\u001b[49m\u001b[43m \u001b[49m\u001b[43my\u001b[49m\u001b[43m,\u001b[49m\u001b[43m \u001b[49m\u001b[43menv\u001b[49m\u001b[43m,\u001b[49m\u001b[43m \u001b[49m\u001b[38;5;241;43m0\u001b[39;49m\u001b[43m)\u001b[49m\n\u001b[1;32m     24\u001b[0m \u001b[38;5;28mprint\u001b[39m(ans)\n",
      "Cell \u001b[0;32mIn[33], line 13\u001b[0m, in \u001b[0;36mmove\u001b[0;34m(x, y, env, d)\u001b[0m\n\u001b[1;32m     11\u001b[0m \u001b[38;5;28;01mfor\u001b[39;00m action \u001b[38;5;129;01min\u001b[39;00m actions:\n\u001b[1;32m     12\u001b[0m     deltax, deltay \u001b[38;5;241m=\u001b[39m action[\u001b[38;5;241m0\u001b[39m], action[\u001b[38;5;241m1\u001b[39m]\n\u001b[0;32m---> 13\u001b[0m     \u001b[43mmove\u001b[49m\u001b[43m(\u001b[49m\u001b[43mx\u001b[49m\u001b[43m \u001b[49m\u001b[38;5;241;43m+\u001b[39;49m\u001b[43m \u001b[49m\u001b[43mdeltax\u001b[49m\u001b[43m,\u001b[49m\u001b[43m \u001b[49m\u001b[43my\u001b[49m\u001b[43m \u001b[49m\u001b[38;5;241;43m+\u001b[39;49m\u001b[43m \u001b[49m\u001b[43mdeltay\u001b[49m\u001b[43m,\u001b[49m\u001b[43m \u001b[49m\u001b[43menv\u001b[49m\u001b[43m,\u001b[49m\u001b[43m \u001b[49m\u001b[43md\u001b[49m\u001b[38;5;241;43m+\u001b[39;49m\u001b[38;5;241;43m1\u001b[39;49m\u001b[43m)\u001b[49m\n\u001b[1;32m     15\u001b[0m \u001b[38;5;28;01mreturn\u001b[39;00m ans\n",
      "Cell \u001b[0;32mIn[33], line 13\u001b[0m, in \u001b[0;36mmove\u001b[0;34m(x, y, env, d)\u001b[0m\n\u001b[1;32m     11\u001b[0m \u001b[38;5;28;01mfor\u001b[39;00m action \u001b[38;5;129;01min\u001b[39;00m actions:\n\u001b[1;32m     12\u001b[0m     deltax, deltay \u001b[38;5;241m=\u001b[39m action[\u001b[38;5;241m0\u001b[39m], action[\u001b[38;5;241m1\u001b[39m]\n\u001b[0;32m---> 13\u001b[0m     \u001b[43mmove\u001b[49m\u001b[43m(\u001b[49m\u001b[43mx\u001b[49m\u001b[43m \u001b[49m\u001b[38;5;241;43m+\u001b[39;49m\u001b[43m \u001b[49m\u001b[43mdeltax\u001b[49m\u001b[43m,\u001b[49m\u001b[43m \u001b[49m\u001b[43my\u001b[49m\u001b[43m \u001b[49m\u001b[38;5;241;43m+\u001b[39;49m\u001b[43m \u001b[49m\u001b[43mdeltay\u001b[49m\u001b[43m,\u001b[49m\u001b[43m \u001b[49m\u001b[43menv\u001b[49m\u001b[43m,\u001b[49m\u001b[43m \u001b[49m\u001b[43md\u001b[49m\u001b[38;5;241;43m+\u001b[39;49m\u001b[38;5;241;43m1\u001b[39;49m\u001b[43m)\u001b[49m\n\u001b[1;32m     15\u001b[0m \u001b[38;5;28;01mreturn\u001b[39;00m ans\n",
      "    \u001b[0;31m[... skipping similar frames: move at line 13 (10 times)]\u001b[0m\n",
      "Cell \u001b[0;32mIn[33], line 13\u001b[0m, in \u001b[0;36mmove\u001b[0;34m(x, y, env, d)\u001b[0m\n\u001b[1;32m     11\u001b[0m \u001b[38;5;28;01mfor\u001b[39;00m action \u001b[38;5;129;01min\u001b[39;00m actions:\n\u001b[1;32m     12\u001b[0m     deltax, deltay \u001b[38;5;241m=\u001b[39m action[\u001b[38;5;241m0\u001b[39m], action[\u001b[38;5;241m1\u001b[39m]\n\u001b[0;32m---> 13\u001b[0m     \u001b[43mmove\u001b[49m\u001b[43m(\u001b[49m\u001b[43mx\u001b[49m\u001b[43m \u001b[49m\u001b[38;5;241;43m+\u001b[39;49m\u001b[43m \u001b[49m\u001b[43mdeltax\u001b[49m\u001b[43m,\u001b[49m\u001b[43m \u001b[49m\u001b[43my\u001b[49m\u001b[43m \u001b[49m\u001b[38;5;241;43m+\u001b[39;49m\u001b[43m \u001b[49m\u001b[43mdeltay\u001b[49m\u001b[43m,\u001b[49m\u001b[43m \u001b[49m\u001b[43menv\u001b[49m\u001b[43m,\u001b[49m\u001b[43m \u001b[49m\u001b[43md\u001b[49m\u001b[38;5;241;43m+\u001b[39;49m\u001b[38;5;241;43m1\u001b[39;49m\u001b[43m)\u001b[49m\n\u001b[1;32m     15\u001b[0m \u001b[38;5;28;01mreturn\u001b[39;00m ans\n",
      "Cell \u001b[0;32mIn[33], line 15\u001b[0m, in \u001b[0;36mmove\u001b[0;34m(x, y, env, d)\u001b[0m\n\u001b[1;32m     12\u001b[0m     deltax, deltay \u001b[38;5;241m=\u001b[39m action[\u001b[38;5;241m0\u001b[39m], action[\u001b[38;5;241m1\u001b[39m]\n\u001b[1;32m     13\u001b[0m     move(x \u001b[38;5;241m+\u001b[39m deltax, y \u001b[38;5;241m+\u001b[39m deltay, env, d\u001b[38;5;241m+\u001b[39m\u001b[38;5;241m1\u001b[39m)\n\u001b[0;32m---> 15\u001b[0m \u001b[38;5;28;01mreturn\u001b[39;00m \u001b[43mans\u001b[49m\n",
      "\u001b[0;31mUnboundLocalError\u001b[0m: local variable 'ans' referenced before assignment"
     ]
    }
   ],
   "source": [
    "def move(x, y, env, d):\n",
    "    if x < 0 or x >= n or y < 0 or y >= m:\n",
    "        return\n",
    "    if env[x][y] != 0:\n",
    "        return\n",
    "    if d == n*m:\n",
    "        ans += 1\n",
    "        return ans\n",
    "    \n",
    "    env[x][y] = 1\n",
    "    for action in actions:\n",
    "        deltax, deltay = action[0], action[1]\n",
    "        move(x + deltax, y + deltay, env, d+1)\n",
    "    \n",
    "    return ans\n",
    "\n",
    "T = int(input())\n",
    "actions = [[1, 2], [-1, 2], [1, -2], [-1, -2], [2, 1], [2, -1], [-2, 1], [-2, -1]]\n",
    "for i in range(T):\n",
    "    ans = 0\n",
    "    n, m, x, y = map(int, input().split())\n",
    "    env = [[0]*m for _ in range(n)]\n",
    "    ans = move(x, y, env, 0)\n",
    "    print(ans)\n",
    "\n"
   ]
  },
  {
   "cell_type": "code",
   "execution_count": 34,
   "metadata": {},
   "outputs": [
    {
     "name": "stdout",
     "output_type": "stream",
     "text": [
      "32\n"
     ]
    }
   ],
   "source": [
    "def move(x, y, env, d, n, m):\n",
    "    if x < 0 or x >= n or y < 0 or y >= m:\n",
    "        return 0\n",
    "    if env[x][y] != 0:\n",
    "        return 0\n",
    "    if d == n*m - 1:\n",
    "        return 1\n",
    "    \n",
    "    env[x][y] = 1\n",
    "    count = 0\n",
    "    for deltax, deltay in actions:\n",
    "        count += move(x + deltax, y + deltay, env, d + 1, n, m)\n",
    "    env[x][y] = 0 #回溯，便于其他路径可以访问该状态\n",
    "    return count\n",
    "\n",
    "T = int(input())\n",
    "actions = [[1, 2], [-1, 2], [1, -2], [-1, -2], [2, 1], [2, -1], [-2, 1], [-2, -1]]\n",
    "for i in range(T):\n",
    "    n, m, x, y = map(int, input().split())\n",
    "    env = [[0]*m for _ in range(n)]\n",
    "    result = move(x, y, env, 0, n, m)\n",
    "    print(result)\n"
   ]
  },
  {
   "cell_type": "markdown",
   "metadata": {},
   "source": [
    "### 28041：词梯"
   ]
  },
  {
   "cell_type": "code",
   "execution_count": 43,
   "metadata": {},
   "outputs": [
    {
     "name": "stdout",
     "output_type": "stream",
     "text": [
      "fool pool poll pole pale sale sage\n"
     ]
    }
   ],
   "source": [
    "from collections import deque, defaultdict\n",
    "\n",
    "def build_graph(words):\n",
    "    graph = defaultdict(list)\n",
    "    length = len(words[0]) # 单词长度都是4\n",
    "    for word in words:\n",
    "        for i in range(length):\n",
    "            pattern = word[:i] + '*' + word[i+1:]\n",
    "            graph[pattern].append(word)\n",
    "    return graph\n",
    "\n",
    "def bfs(start, end, graph):\n",
    "    queue = deque([(start, [start])]) #初始化，用于存储当前的单词和途径的路径，\n",
    "    visited = set([start]) #记录访问过的单词（集合效率更高）\n",
    "    while queue:\n",
    "        current_word, path = queue.popleft()\n",
    "        if current_word == end:\n",
    "            return path\n",
    "        for i in range(len(current_word)):\n",
    "            pattern = current_word[:i] + '*' + current_word[i+1:]\n",
    "            for neighbor in graph[pattern]:\n",
    "                if neighbor not in visited:\n",
    "                    visited.add(neighbor)\n",
    "                    queue.append((neighbor, path + [neighbor]))\n",
    "    return [] #没找到要返回空！\n",
    "\n",
    "def word_ladder(start, end, words):\n",
    "    graph = build_graph(words)\n",
    "    return bfs(start, end, graph)\n",
    "\n",
    "n = int(input())\n",
    "words = []\n",
    "for i in range(n):\n",
    "    words.append(input())\n",
    "start, end = input().split()\n",
    "result = word_ladder(start, end, words)\n",
    "if len(result) == 0:\n",
    "    print('NO')\n",
    "else:\n",
    "    print(' '.join([_ for _ in result]))"
   ]
  },
  {
   "cell_type": "markdown",
   "metadata": {},
   "source": [
    "### 28050：骑士周游"
   ]
  },
  {
   "cell_type": "code",
   "execution_count": 47,
   "metadata": {},
   "outputs": [
    {
     "name": "stdout",
     "output_type": "stream",
     "text": [
      "success\n"
     ]
    }
   ],
   "source": [
    "def degree(x, y, env, n):\n",
    "    \"\"\"计算位置(x, y)的度数\"\"\"\n",
    "    count = 0\n",
    "    for dx, dy in actions:\n",
    "        nx, ny = x + dx, y + dy\n",
    "        if 0 <= nx < n and 0 <= ny < n and env[nx][ny] == 0:\n",
    "            count += 1\n",
    "    return count\n",
    "\n",
    "def move(x, y, env, d, n):\n",
    "    if x < 0 or x >= n or y < 0 or y >= n:\n",
    "        return False\n",
    "    if env[x][y] != 0:\n",
    "        return False\n",
    "    if d == n*n - 1:\n",
    "        return True\n",
    "    \n",
    "    env[x][y] = 1\n",
    "    # 使用Warnsdorff规则选择下一个移动\n",
    "    next_moves = []\n",
    "    for deltax, deltay in actions:\n",
    "        nx, ny = x + deltax, y + deltay\n",
    "        if 0 <= nx < n and 0 <= ny < n and env[nx][ny] == 0:\n",
    "            deg = degree(nx, ny, env, n)\n",
    "            next_moves.append((deg, deltax, deltay))\n",
    "    # 按照度数排序，度数最小的排在前面\n",
    "    next_moves.sort()\n",
    "    \n",
    "    for _, deltax, deltay in next_moves:\n",
    "        if move(x + deltax, y + deltay, env, d + 1, n):\n",
    "            return True\n",
    "    \n",
    "    env[x][y] = 0  # 回溯\n",
    "    return False\n",
    "\n",
    "actions = [[1, 2], [-1, 2], [1, -2], [-1, -2], [2, 1], [2, -1], [-2, 1], [-2, -1]]\n",
    "n = int(input())\n",
    "x, y = map(int, input().split())\n",
    "env = [[0]*n for _ in range(n)]\n",
    "if move(x, y, env, 0, n):\n",
    "    print(\"success\")\n",
    "else:\n",
    "    print(\"fail\")"
   ]
  }
 ],
 "metadata": {
  "kernelspec": {
   "display_name": "py310",
   "language": "python",
   "name": "python3"
  },
  "language_info": {
   "codemirror_mode": {
    "name": "ipython",
    "version": 3
   },
   "file_extension": ".py",
   "mimetype": "text/x-python",
   "name": "python",
   "nbconvert_exporter": "python",
   "pygments_lexer": "ipython3",
   "version": "3.10.9"
  }
 },
 "nbformat": 4,
 "nbformat_minor": 2
}
