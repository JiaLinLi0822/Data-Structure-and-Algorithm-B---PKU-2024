{
 "cells": [
  {
   "cell_type": "markdown",
   "metadata": {},
   "source": [
    "# Assignment 5\n",
    "**Edited by LJL@PKU**"
   ]
  },
  {
   "cell_type": "markdown",
   "metadata": {},
   "source": [
    "### 27638:求二叉树的高度和叶子数目"
   ]
  },
  {
   "cell_type": "code",
   "execution_count": 6,
   "metadata": {},
   "outputs": [
    {
     "name": "stdout",
     "output_type": "stream",
     "text": [
      "2 2\n"
     ]
    }
   ],
   "source": [
    "class TreeNode():\n",
    "    def __init__(self, x):\n",
    "        self.val = x\n",
    "        self.left = None\n",
    "        self.right = None\n",
    "        self.parent = None\n",
    "\n",
    "def tree_depth(node):\n",
    "    if node is None:\n",
    "        return -1 # 避免NoneType返回，即度为0的结点返回None值会报错\n",
    "    \n",
    "    left = tree_depth(node.left)\n",
    "    right = tree_depth(node.right)\n",
    "\n",
    "    return max(left, right)+ 1\n",
    "\n",
    "def leaf_node(nodelist):\n",
    "    counter = 0\n",
    "    for i in range(len(nodelist)):\n",
    "        if nodelist[i].left == None and nodelist[i].right == None:\n",
    "            counter +=1\n",
    "    \n",
    "    return counter\n",
    "\n",
    "n = int(input())\n",
    "nodes = [TreeNode(i) for i in range(n)]\n",
    "for i in range(n):\n",
    "    left, right = map(int, input().split())\n",
    "    if left != -1:\n",
    "        nodes[i].left = nodes[left]\n",
    "        nodes[left].parent = nodes[i]\n",
    "    if right != -1:\n",
    "        nodes[i].right = nodes[right]\n",
    "        nodes[right].parent = nodes[i]\n",
    "\n",
    "for i in range(len(nodes)):\n",
    "    if nodes[i].parent is None:\n",
    "        root = nodes[i]\n",
    "\n",
    "print(tree_depth(root), leaf_node(nodes))\n"
   ]
  },
  {
   "cell_type": "markdown",
   "metadata": {},
   "source": [
    "### 24729：括号嵌套树"
   ]
  },
  {
   "cell_type": "code",
   "execution_count": 3,
   "metadata": {},
   "outputs": [
    {
     "name": "stdout",
     "output_type": "stream",
     "text": [
      "ABECFGDHI\n",
      "EBFGCIHDA\n"
     ]
    }
   ],
   "source": [
    "class TreeNode:\n",
    "    def __init__(self, value): #类似字典\n",
    "        self.value = value\n",
    "        self.children = []\n",
    "\n",
    "def parse_tree(s):\n",
    "    stack = []\n",
    "    node = None\n",
    "    for char in s:\n",
    "        if char.isalpha():  # 如果是字母，创建新节点\n",
    "            node = TreeNode(char)\n",
    "            if stack:  # 如果栈不为空，把节点作为子节点加入到栈顶节点的子节点列表中\n",
    "                stack[-1].children.append(node)\n",
    "        elif char == '(':  # 遇到左括号，当前节点可能会有子节点\n",
    "            if node:\n",
    "                stack.append(node)  # 把当前节点推入栈中\n",
    "                node = None\n",
    "        elif char == ')':  # 遇到右括号，子节点列表结束\n",
    "            if stack:\n",
    "                node = stack.pop()  # 弹出当前节点\n",
    "    return node  # 根节点\n",
    "\n",
    "def preorder(node):\n",
    "    output = [node.value]\n",
    "    for child in node.children:\n",
    "        output.extend(preorder(child))\n",
    "    return ''.join(output)\n",
    "\n",
    "def postorder(node):\n",
    "    output = []\n",
    "    for child in node.children:\n",
    "        output.extend(postorder(child))\n",
    "    output.append(node.value)\n",
    "    return ''.join(output)\n",
    "\n",
    "# 主程序\n",
    "def main():\n",
    "    s = input().strip()\n",
    "    s = ''.join(s.split())  # 去掉所有空白字符\n",
    "    root = parse_tree(s)  # 解析整棵树\n",
    "    if root:\n",
    "        print(preorder(root))  # 输出前序遍历序列\n",
    "        print(postorder(root))  # 输出后序遍历序列\n",
    "    else:\n",
    "        print(\"input tree string error!\")\n",
    "\n",
    "if __name__ == \"__main__\":\n",
    "    main()"
   ]
  },
  {
   "cell_type": "markdown",
   "metadata": {},
   "source": [
    "### 02775：文件结构“图”"
   ]
  },
  {
   "cell_type": "code",
   "execution_count": null,
   "metadata": {},
   "outputs": [],
   "source": [
    "def print_structure(node,indent=0):\n",
    "\t#indent为缩进个数\n",
    "    prefix='|     '*indent\n",
    "    print(prefix+node['name'])\n",
    "    for dir in node['dirs']:\n",
    "    \t#若为目录继续递归\n",
    "        print_structure(dir,indent+1) #对目录进行递归的方式输出，indent控制缩进\n",
    "    for file in sorted(node['files']):\n",
    "    \t#若为文件直接打印\n",
    "        print(prefix+file)\n",
    "\n",
    "dataset=1\n",
    "datas=[]\n",
    "temp=[]\n",
    "\n",
    "#读取输入\n",
    "while True:\n",
    "    line=input()\n",
    "    if line=='#':\n",
    "        break\n",
    "    if line=='*':\n",
    "        datas.append(temp)\n",
    "        temp=[]\n",
    "    else:\n",
    "        temp.append(line)\n",
    "\n",
    "for data in datas:\n",
    "    print(f'DATA SET {dataset}:')\n",
    "    root={'name':'ROOT','dirs':[],'files':[]}\n",
    "    stack=[root]\n",
    "    #用栈实现后进先出\n",
    "    for line in data:\n",
    "        if line[0]=='d': #如果是目录，直接添加子目录到dirs的键中\n",
    "            dir={'name':line,'dirs':[],'files':[]}\n",
    "            stack[-1]['dirs'].append(dir) \n",
    "            stack.append(dir)\n",
    "        elif line[0]=='f': #如果是文件，添加到files的键中\n",
    "            stack[-1]['files'].append(line)\n",
    "        else:  #某种结束符\n",
    "            stack.pop()\n",
    "    print_structure(root)\n",
    "    if dataset<len(datas):\n",
    "        print()\n",
    "    dataset+=1"
   ]
  },
  {
   "cell_type": "markdown",
   "metadata": {},
   "source": [
    "### 25140：根据后序表达式建立表达式树"
   ]
  },
  {
   "cell_type": "code",
   "execution_count": 35,
   "metadata": {},
   "outputs": [
    {
     "name": "stdout",
     "output_type": "stream",
     "text": [
      "w z y x I P M\n"
     ]
    }
   ],
   "source": [
    "from collections import deque\n",
    "\n",
    "class Node:\n",
    "    def __init__(self, x):\n",
    "        self.value = x\n",
    "        self.left = None\n",
    "        self.right = None\n",
    "\n",
    "def build_tree(postfix):\n",
    "    stack = []\n",
    "    for item in postfix:\n",
    "        if item in op:\n",
    "            node = Node(item)\n",
    "            node.right = stack.pop()\n",
    "            node.left = stack.pop()\n",
    "        else:\n",
    "            node = Node(item)\n",
    "        stack.append(node)\n",
    "    return stack[0]\n",
    "\n",
    "# def dequeExp(root):\n",
    "#     if root.right == None and root.left == None:\n",
    "#         print(root.value)\n",
    "#         return \n",
    "#     dequeExp(root.right)\n",
    "#     dequeExp(root.left)\n",
    "#     print(root.value)\n",
    "#     return\n",
    "\n",
    "def dequeExp(root):\n",
    "    if root is None:\n",
    "        return\n",
    "\n",
    "    stack = [] #用栈先进后出的特性，将树中的元素依次从根节点到叶结点依次存入\n",
    "    queue = deque() #通过队列中转，先进先出\n",
    "    queue.append(root)\n",
    "\n",
    "    while queue:\n",
    "        node = queue.popleft()\n",
    "        stack.append(node)\n",
    "\n",
    "        if node.left:\n",
    "            queue.append(node.left)\n",
    "        if node.right:\n",
    "            queue.append(node.right)\n",
    "\n",
    "    values = [node.value for node in stack[::-1]]\n",
    "    print(\"\".join(values))\n",
    "\n",
    "\n",
    "num = 'abcdefghijklmnopqrstuvwxyz'\n",
    "op = 'ABCDEFGHIJKLMNOPQRSTUVWXYZ'\n",
    "\n",
    "n = int(input())\n",
    "for i in range(n):\n",
    "    seq = list(input())\n",
    "    root = build_tree(seq)\n",
    "    dequeExp(root)\n",
    "    "
   ]
  },
  {
   "cell_type": "markdown",
   "metadata": {},
   "source": [
    "### 24750:根据二叉树中后序序列建树"
   ]
  },
  {
   "cell_type": "code",
   "execution_count": 45,
   "metadata": {},
   "outputs": [
    {
     "name": "stdout",
     "output_type": "stream",
     "text": [
      "ABCD\n"
     ]
    }
   ],
   "source": [
    "class TreeNode:\n",
    "    def __init__(self, val):\n",
    "        self.val = val\n",
    "        self.left = None\n",
    "        self.right = None\n",
    "\n",
    "def buildTree(inorder, postorder):\n",
    "    if not inorder or not postorder:\n",
    "        return None\n",
    "    \n",
    "    root_val = postorder.pop()\n",
    "    root = TreeNode(root_val)\n",
    "    root_index = inorder.index(root_val) #找到根结点在中序遍历中的位置\n",
    "    \n",
    "    #将序列切分成右子树和左子树\n",
    "    root.right = buildTree(inorder[root_index+1:], postorder)\n",
    "    root.left = buildTree(inorder[:root_index], postorder)\n",
    "    \n",
    "    return root\n",
    "\n",
    "def preorderTraversal(root):\n",
    "    if not root:\n",
    "        return []\n",
    "    stack = [root]\n",
    "    result = []\n",
    "    while stack:\n",
    "        node = stack.pop()\n",
    "        result.append(node.val)\n",
    "        if node.right:\n",
    "            stack.append(node.right)\n",
    "        if node.left:\n",
    "            stack.append(node.left)\n",
    "    return result\n",
    "\n",
    "inorder = input().strip()\n",
    "postorder = input().strip()\n",
    "\n",
    "# 构建二叉树\n",
    "root = buildTree(list(inorder), list(postorder))\n",
    "\n",
    "# 前序遍历并输出结果\n",
    "result = preorderTraversal(root)\n",
    "print(''.join(result))\n"
   ]
  },
  {
   "cell_type": "markdown",
   "metadata": {},
   "source": [
    "### 22158：根据二叉树前中序序列建树"
   ]
  },
  {
   "cell_type": "code",
   "execution_count": 55,
   "metadata": {},
   "outputs": [
    {
     "name": "stdout",
     "output_type": "stream",
     "text": [
      "RUAPD\n",
      "CBNTX\n",
      "\n",
      "\n",
      "\n",
      "\n"
     ]
    }
   ],
   "source": [
    "class TreeNode:\n",
    "    def __init__(self, val):\n",
    "        self.val = val\n",
    "        self.left = None\n",
    "        self.right = None\n",
    "\n",
    "def buildTree(preorder, inorder):\n",
    "    if not preorder or not inorder:\n",
    "        return None\n",
    "    \n",
    "    root_val = preorder.pop()\n",
    "    root = TreeNode(root_val)\n",
    "    root_index = inorder.index(root_val) #找到根结点在中序遍历中的位置\n",
    "    \n",
    "    #将序列切分成右子树和左子树\n",
    "    root.left = buildTree(preorder, inorder[:root_index])\n",
    "    root.right = buildTree(preorder, inorder[root_index+1:])\n",
    "    \n",
    "    return root\n",
    "\n",
    "def postorderTraversal(root):\n",
    "    result = []\n",
    "    if root:\n",
    "        result.extend(postorderTraversal(root.left))\n",
    "        result.extend(postorderTraversal(root.right))\n",
    "        result.append(root.val)\n",
    "\n",
    "    return result\n",
    "\n",
    "while True:\n",
    "    try:   \n",
    "        preorder = input().strip()\n",
    "        inorder = input().strip()\n",
    "\n",
    "        # 构建二叉树\n",
    "        root = buildTree(list(preorder)[::-1], list(inorder))\n",
    "\n",
    "        # 前序遍历并输出结果\n",
    "        result = postorderTraversal(root)\n",
    "        print(''.join(result))\n",
    "    except:\n",
    "        break\n"
   ]
  },
  {
   "cell_type": "code",
   "execution_count": 46,
   "metadata": {},
   "outputs": [
    {
     "name": "stdout",
     "output_type": "stream",
     "text": [
      "[4, 3, 2, 1]\n"
     ]
    }
   ],
   "source": [
    "a = [1,2,3,4]\n",
    "print(a[::-1])"
   ]
  }
 ],
 "metadata": {
  "kernelspec": {
   "display_name": "py310",
   "language": "python",
   "name": "python3"
  },
  "language_info": {
   "codemirror_mode": {
    "name": "ipython",
    "version": 3
   },
   "file_extension": ".py",
   "mimetype": "text/x-python",
   "name": "python",
   "nbconvert_exporter": "python",
   "pygments_lexer": "ipython3",
   "version": "3.10.9"
  }
 },
 "nbformat": 4,
 "nbformat_minor": 2
}
