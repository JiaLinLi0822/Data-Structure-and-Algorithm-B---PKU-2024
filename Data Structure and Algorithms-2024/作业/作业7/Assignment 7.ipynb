{
 "cells": [
  {
   "cell_type": "markdown",
   "metadata": {},
   "source": [
    "# Assigment 7\n",
    "**Edited By LJL@PKU**"
   ]
  },
  {
   "cell_type": "markdown",
   "metadata": {},
   "source": [
    "### 27706: 逐词倒放"
   ]
  },
  {
   "cell_type": "code",
   "execution_count": 2,
   "metadata": {},
   "outputs": [
    {
     "name": "stdout",
     "output_type": "stream",
     "text": [
      "you can cage a swallow can't you but you can't swallow a cage can you 123?\n"
     ]
    }
   ],
   "source": [
    "s = input().split()\n",
    "stack = []\n",
    "for i in range(len(s)):\n",
    "    stack.append(s[i])\n",
    "\n",
    "res = []\n",
    "for j in range(len(stack)):\n",
    "    res.append(stack.pop())\n",
    "\n",
    "print(' '.join(res[_] for _ in range(len(res))))"
   ]
  },
  {
   "cell_type": "markdown",
   "metadata": {},
   "source": [
    "### 27951：机器翻译"
   ]
  },
  {
   "cell_type": "code",
   "execution_count": 8,
   "metadata": {},
   "outputs": [
    {
     "name": "stdout",
     "output_type": "stream",
     "text": [
      "5\n"
     ]
    }
   ],
   "source": [
    "from collections import deque\n",
    "\n",
    "M, N = map(int, input().split())\n",
    "words = list(map(int,input().split()))\n",
    "count = 0\n",
    "memory = deque()\n",
    "\n",
    "for i in range(len(words)):\n",
    "\n",
    "    if len(memory)<= M:\n",
    "\n",
    "        if words[i] in memory:\n",
    "            pass\n",
    "        else:\n",
    "            memory.append(words[i])\n",
    "            count += 1\n",
    "    else:\n",
    "        memory.popleft()\n",
    "        if words[i] in memory:\n",
    "            pass\n",
    "        else:\n",
    "            memory.append(words[i])\n",
    "            count += 1\n",
    "\n",
    "print(count)"
   ]
  },
  {
   "cell_type": "markdown",
   "metadata": {},
   "source": [
    "### 27932: Less or Equal"
   ]
  },
  {
   "cell_type": "code",
   "execution_count": 78,
   "metadata": {},
   "outputs": [
    {
     "name": "stdout",
     "output_type": "stream",
     "text": [
      "5\n"
     ]
    }
   ],
   "source": [
    "n, k = map(int, input().split())\n",
    "seq = list(map(int, input().split()))\n",
    "\n",
    "seqsort = sorted(seq)\n",
    "\n",
    "if k == 0:\n",
    "    if seqsort[0] > 1:\n",
    "        print(1)\n",
    "    else:\n",
    "        print(-1)\n",
    "elif k == n:\n",
    "    print(seqsort[-1])\n",
    "\n",
    "else:\n",
    "    if seqsort[k] !=  seqsort[k-1]:\n",
    "        print(seqsort[k-1])\n",
    "    else:\n",
    "        print(-1)    "
   ]
  },
  {
   "cell_type": "code",
   "execution_count": 77,
   "metadata": {},
   "outputs": [
    {
     "name": "stdout",
     "output_type": "stream",
     "text": [
      "-1\n"
     ]
    }
   ],
   "source": [
    "def find_min_x(n, k, arr):\n",
    "    arr.sort()  # 对序列进行排序\n",
    "    if k == 0:\n",
    "        if arr[0] == 1:\n",
    "            return \"-1\"\n",
    "        else:\n",
    "            return 1\n",
    "    elif k == n:\n",
    "        return arr[-1]\n",
    "    else:\n",
    "        if arr[k-1] == arr[k]:\n",
    "            return \"-1\"\n",
    "        else:\n",
    "            return arr[k-1]\n",
    "\n",
    "n, k = map(int, input().split())\n",
    "arr = list(map(int, input().split()))\n",
    "\n",
    "print(find_min_x(n, k, arr))\n"
   ]
  },
  {
   "cell_type": "markdown",
   "metadata": {},
   "source": [
    "### 27948: FBI树"
   ]
  },
  {
   "cell_type": "code",
   "execution_count": 29,
   "metadata": {},
   "outputs": [
    {
     "name": "stdout",
     "output_type": "stream",
     "text": [
      "IBFBBBFIBFIIIFF\n"
     ]
    }
   ],
   "source": [
    "class TreeNode():\n",
    "    def __init__(self, x):\n",
    "        self.val = x\n",
    "        self.left = None\n",
    "        self.right = None\n",
    "        self.parent = None\n",
    "        self.seql = None\n",
    "        self.seqr = None\n",
    "\n",
    "def buildFBI(seq, root):\n",
    "\n",
    "    if len(seq) > 1:\n",
    "        ind = len(seq)//2\n",
    "        root.seql = seq[:ind]\n",
    "        root.seqr = seq[ind:]\n",
    "    else:\n",
    "        return\n",
    "\n",
    "    root.left = judge(root.seql)\n",
    "    root.right = judge(root.seqr)\n",
    "    buildFBI(root.seql, root.left)\n",
    "    buildFBI(root.seqr, root.right)\n",
    "\n",
    "    return\n",
    "\n",
    "def postorderTraversal(root):\n",
    "    result = []\n",
    "    if root:\n",
    "        result.extend(postorderTraversal(root.left))\n",
    "        result.extend(postorderTraversal(root.right))\n",
    "        result.append(root.val)\n",
    "\n",
    "    return result\n",
    "\n",
    "def judge(seq):\n",
    "\n",
    "    if 1 in seq and 0 in seq:\n",
    "        node = TreeNode('F')\n",
    "    elif 1 in seq and 0 not in seq:\n",
    "        node = TreeNode('I')\n",
    "    else:\n",
    "        node = TreeNode('B')\n",
    "    \n",
    "    return node\n",
    "\n",
    "N = int(input())\n",
    "seq = list(map(int,input()))\n",
    "root = judge(seq)\n",
    "\n",
    "buildFBI(seq, root)\n",
    "results = postorderTraversal(root)\n",
    "print(''.join(results))\n",
    "    "
   ]
  },
  {
   "cell_type": "markdown",
   "metadata": {},
   "source": [
    "### 27925:小组队列"
   ]
  },
  {
   "cell_type": "code",
   "execution_count": 64,
   "metadata": {},
   "outputs": [
    {
     "name": "stdout",
     "output_type": "stream",
     "text": [
      "101\n",
      "102\n",
      "103\n",
      "201\n",
      "202\n",
      "203\n"
     ]
    }
   ],
   "source": [
    "from collections import deque\n",
    "t = int(input())\n",
    "groups = {}\n",
    "for i in range(t):\n",
    "    groups[i+1] = (list(map(int,input().split())))\n",
    "\n",
    "seq = deque()\n",
    "output = []\n",
    "\n",
    "while True:\n",
    "    command = list(input().split())\n",
    "    if command[0] == 'ENQUEUE':\n",
    "        new = int(command[1])\n",
    "        if len(seq) == 0:\n",
    "            seq.append(new)\n",
    "        else:\n",
    "            for i in range(1, len(groups)+1):\n",
    "                if new in groups[i]:\n",
    "                    ind = i\n",
    "            \n",
    "            memberind = -9999\n",
    "            group = groups[ind]\n",
    "            for member in group:\n",
    "                if member in seq:\n",
    "                    memberind = max(seq.index(member), memberind)\n",
    "            \n",
    "            if memberind == -9999:\n",
    "                seq.append(new)\n",
    "            else:\n",
    "                seq.insert(memberind + 1, new)\n",
    "    \n",
    "    elif command[0] == 'DEQUEUE':\n",
    "        print(seq.popleft())\n",
    "    \n",
    "    elif command[0] == 'STOP':\n",
    "        break\n"
   ]
  },
  {
   "cell_type": "code",
   "execution_count": 73,
   "metadata": {},
   "outputs": [
    {
     "name": "stdout",
     "output_type": "stream",
     "text": [
      "101\n",
      "102\n",
      "103\n",
      "201\n",
      "202\n",
      "203\n"
     ]
    }
   ],
   "source": [
    "from collections import deque\n",
    "\n",
    "t = int(input())\n",
    "teams = {i: deque(map(int, input().split())) for i in range(t)}\n",
    "queue = deque()\n",
    "group_queue = {i: deque() for i in range(t)}\n",
    "\n",
    "while True:\n",
    "    command = input().split()\n",
    "    if command[0] == 'STOP':\n",
    "        break\n",
    "    elif command[0] == 'ENQUEUE':\n",
    "        person = int(command[1])\n",
    "        for i in range(t):\n",
    "            if person in teams[i]:\n",
    "                group_queue[i].append(person)\n",
    "                if i not in queue:\n",
    "                    queue.append(i)\n",
    "                break\n",
    "    elif command[0] == 'DEQUEUE':\n",
    "        group = queue[0]\n",
    "        print(group_queue[group].popleft())\n",
    "        if not group_queue[group]:\n",
    "            queue.popleft()"
   ]
  },
  {
   "cell_type": "markdown",
   "metadata": {},
   "source": [
    "### 27928：遍历树"
   ]
  },
  {
   "cell_type": "code",
   "execution_count": null,
   "metadata": {},
   "outputs": [],
   "source": [
    "class Node():\n",
    "    def __init__(self, x):\n",
    "        self.val = x\n",
    "        self.children = []\n",
    "\n",
    "n = int(input())\n",
    "for i in range(n):\n",
    "    nodes = list(map(int, input().split()))\n",
    "    root = Node(nodes[0])\n",
    "    root.children.extend(nodes[1:])\n",
    "\n",
    "def traverse(root):\n",
    "    \n"
   ]
  },
  {
   "cell_type": "code",
   "execution_count": 12,
   "metadata": {},
   "outputs": [
    {
     "name": "stdout",
     "output_type": "stream",
     "text": [
      "2\n",
      "1\n",
      "3\n",
      "7\n",
      "10\n",
      "9\n"
     ]
    }
   ],
   "source": [
    "class Node():\n",
    "    def __init__(self, x):\n",
    "        self.val = x\n",
    "        self.parent = None\n",
    "        self.children = []\n",
    "\n",
    "    def traverse(self):\n",
    "        if self.children == []:\n",
    "            print(self.val)\n",
    "        else:\n",
    "            tmp_nodes = self.children + [self]\n",
    "            tmp_nodes.sort(key=lambda x: x.val)\n",
    "            #排序之后叶结点和根结点比大小，如果是第一个就直接输出，然后再看叶子结点有没有叶子结点\n",
    "            for node in tmp_nodes:\n",
    "                if node.val != self.val: \n",
    "                    node.traverse()\n",
    "                else:\n",
    "                    print(node.val)\n",
    "\n",
    "n = int(input())\n",
    "nodes = {}\n",
    "for i in range(n):\n",
    "    info = list(map(int, input().split()))\n",
    "    if info[0] not in nodes:\n",
    "        nodes[info[0]] = Node(info[0])\n",
    "\n",
    "    for j in info[1:]:\n",
    "        if j not in nodes:\n",
    "            nodes[j] = Node(j)\n",
    "        nodes[j].parent = nodes[info[0]]\n",
    "        nodes[info[0]].children.append(nodes[j])\n",
    "\n",
    "for node in nodes:\n",
    "    if nodes[node].parent is None:\n",
    "        root = nodes[node]\n",
    "        break\n",
    "\n",
    "root.traverse()"
   ]
  }
 ],
 "metadata": {
  "kernelspec": {
   "display_name": "py310",
   "language": "python",
   "name": "python3"
  },
  "language_info": {
   "codemirror_mode": {
    "name": "ipython",
    "version": 3
   },
   "file_extension": ".py",
   "mimetype": "text/x-python",
   "name": "python",
   "nbconvert_exporter": "python",
   "pygments_lexer": "ipython3",
   "version": "3.10.9"
  }
 },
 "nbformat": 4,
 "nbformat_minor": 2
}
