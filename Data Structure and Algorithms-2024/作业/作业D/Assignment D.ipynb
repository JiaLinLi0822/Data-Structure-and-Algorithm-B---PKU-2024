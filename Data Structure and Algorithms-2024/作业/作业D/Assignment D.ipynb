{
 "cells": [
  {
   "cell_type": "markdown",
   "metadata": {},
   "source": [
    "## Assignment D\n",
    "**Editted by LJL@PKU**"
   ]
  },
  {
   "cell_type": "markdown",
   "metadata": {},
   "source": [
    "### 02808：校门外的树"
   ]
  },
  {
   "cell_type": "code",
   "execution_count": 2,
   "metadata": {},
   "outputs": [
    {
     "name": "stdout",
     "output_type": "stream",
     "text": [
      "298\n"
     ]
    }
   ],
   "source": [
    "L, M = map(int, input().split())\n",
    "trees = [1] * (L + 1)\n",
    "for _ in range(M):\n",
    "    start, end = map(int, input().split())\n",
    "    for i in range(start, end + 1):\n",
    "        trees[i] = 0\n",
    "print(sum(trees))"
   ]
  },
  {
   "cell_type": "markdown",
   "metadata": {},
   "source": [
    "### 20449:是否被5整除"
   ]
  },
  {
   "cell_type": "code",
   "execution_count": 16,
   "metadata": {},
   "outputs": [
    {
     "name": "stdout",
     "output_type": "stream",
     "text": [
      "0\n",
      "1\n",
      "3\n",
      "100\n"
     ]
    }
   ],
   "source": [
    "## 二进制编码转换为十进制\n",
    "def binary(n):\n",
    "    res = 0\n",
    "    i = 0\n",
    "    while n:\n",
    "        res += n % 10 * 2 ** i\n",
    "        n //= 10\n",
    "        i += 1\n",
    "    return res\n",
    "\n",
    "num = input()\n",
    "res = []\n",
    "for i in range(1, len(num)+1):\n",
    "    subnum = num[0:i]\n",
    "    n = binary(int(''.join(subnum)))\n",
    "    if n % 5 == 0:\n",
    "        res.append(1)\n",
    "    else:\n",
    "        res.append(0)\n",
    "print(''.join(map(str, res)))\n"
   ]
  },
  {
   "cell_type": "markdown",
   "metadata": {},
   "source": [
    "### 01258：Agri-Net"
   ]
  },
  {
   "cell_type": "code",
   "execution_count": 17,
   "metadata": {},
   "outputs": [
    {
     "name": "stdout",
     "output_type": "stream",
     "text": [
      "28\n"
     ]
    }
   ],
   "source": [
    "def prim(graph):\n",
    "    n = len(graph)\n",
    "    visited = [False] * n\n",
    "    min_dist = [float('inf')] * n\n",
    "    min_dist[0] = 0\n",
    "    total_length = 0\n",
    "    \n",
    "    for _ in range(n):\n",
    "        min_dist_node = -1\n",
    "        min_dist_value = float('inf')\n",
    "        for i in range(n):\n",
    "            if not visited[i] and min_dist[i] < min_dist_value:\n",
    "                min_dist_node = i\n",
    "                min_dist_value = min_dist[i]\n",
    "        visited[min_dist_node] = True\n",
    "        total_length += min_dist_value\n",
    "        for i in range(n):\n",
    "            if not visited[i] and graph[min_dist_node][i] < min_dist[i]:\n",
    "                min_dist[i] = graph[min_dist_node][i]\n",
    "                \n",
    "    return total_length\n",
    "\n",
    "while True:\n",
    "    try:\n",
    "        N = int(input())\n",
    "        graph = []\n",
    "        for _ in range(N):\n",
    "            graph.append(list(map(int, input().split())))\n",
    "        print(prim(graph))\n",
    "    except EOFError:\n",
    "        break\n"
   ]
  },
  {
   "cell_type": "markdown",
   "metadata": {},
   "source": [
    "### 27635: 判断无向图是否连通有无回路(同23163)"
   ]
  },
  {
   "cell_type": "code",
   "execution_count": 2,
   "metadata": {},
   "outputs": [
    {
     "name": "stdout",
     "output_type": "stream",
     "text": [
      "[[1, 2], [0], [0]]\n",
      "connected:yes\n",
      "loop:no\n"
     ]
    }
   ],
   "source": [
    "def isConnected(G): # G 是邻接表,顶点编号从 0 开始，判断是否连通\n",
    "     n = len(G)\n",
    "     visited = [False for _ in range(n)]\n",
    "     total = 0\n",
    "\n",
    "     def dfs(v):\n",
    "         nonlocal total\n",
    "         visited[v] = True\n",
    "         total += 1\n",
    "         for u in G[v]:\n",
    "             if not visited[u]:\n",
    "                 dfs(u)\n",
    "     dfs(0)\n",
    "     return total == n\n",
    "\n",
    "def hasLoop(G): # G 是邻接表,顶点编号从 0 开始，判断有无回路\n",
    "     n = len(G)\n",
    "     visited = [False for _ in range(n)]\n",
    "\n",
    "     def dfs(v, x): # 返回值表示本次 dfs 是否找到回路,x 是深度优先搜索树上 v 的父结点\n",
    "         visited[v] = True\n",
    "         for u in G[v]:\n",
    "             if visited[u] == True: # 如果 u 已经访问过\n",
    "                 if u != x: # u 不是 v 的父结点\n",
    "                     return True\n",
    "             else: # 如果 u 没有访问过\n",
    "                 if dfs(u, v): # 递归调用 dfs\n",
    "                     return True\n",
    "         return False\n",
    "\n",
    "     for i in range(n):\n",
    "         if not visited[i]:\n",
    "             if dfs(i, -1):\n",
    "                 return True\n",
    "     return False\n",
    "\n",
    "n, m = map(int, input().split())\n",
    "G = [[] for _ in range(n)]\n",
    "for _ in range(m):\n",
    "     u, v = map(int, input().split())\n",
    "     G[u].append(v)\n",
    "     G[v].append(u)\n",
    "\n",
    "if isConnected(G):\n",
    "     print(\"connected:yes\")\n",
    "else:\n",
    "     print(\"connected:no\")\n",
    "\n",
    "if hasLoop(G):\n",
    "    print(\"loop:yes\")\n",
    "else:\n",
    "    print(\"loop:no\")\n",
    " "
   ]
  },
  {
   "cell_type": "markdown",
   "metadata": {},
   "source": [
    "### 27947：动态中位数"
   ]
  },
  {
   "cell_type": "code",
   "execution_count": 7,
   "metadata": {},
   "outputs": [
    {
     "name": "stdout",
     "output_type": "stream",
     "text": [
      "5\n",
      "1 2 3 4 5\n",
      "5\n",
      "9 8 7 6 5\n",
      "12\n",
      "23 23 22 22 13 3 5 5 3 -3 -7 -3\n"
     ]
    }
   ],
   "source": [
    "import heapq\n",
    "\n",
    "def find_median(data):\n",
    "\n",
    "    index = 0\n",
    "\n",
    "    max_heap = []  # 最大堆，用于存储较小的一半元素，Python中使用负值来模拟最大堆\n",
    "    min_heap = []  # 最小堆，用于存储较大的一半元素\n",
    "    medians = []\n",
    "    \n",
    "    while index < len(data):\n",
    "        num = int(data[index])\n",
    "        index += 1\n",
    "        \n",
    "        if len(max_heap) == 0 or num <= -max_heap[0]:\n",
    "            heapq.heappush(max_heap, -num)\n",
    "        else:\n",
    "            heapq.heappush(min_heap, num)\n",
    "        \n",
    "        # 平衡两个堆的大小\n",
    "        if len(max_heap) > len(min_heap) + 1:\n",
    "            heapq.heappush(min_heap, -heapq.heappop(max_heap))\n",
    "        elif len(min_heap) > len(max_heap):\n",
    "            heapq.heappush(max_heap, -heapq.heappop(min_heap))\n",
    "        \n",
    "        # 如果读入的整数个数为奇数，记录中位数\n",
    "        if (len(max_heap) + len(min_heap)) % 2 == 1:\n",
    "            medians.append(-max_heap[0])\n",
    "    \n",
    "    return medians\n",
    "\n",
    "T = int(input())\n",
    "for _ in range(T):\n",
    "    nums = list(map(int, input().split()))\n",
    "    medians = find_median(nums)\n",
    "    print(len(medians))\n",
    "    print(\" \".join(map(str, medians)))"
   ]
  },
  {
   "cell_type": "markdown",
   "metadata": {},
   "source": [
    "### 28190：奶牛排队"
   ]
  },
  {
   "cell_type": "code",
   "execution_count": 10,
   "metadata": {},
   "outputs": [
    {
     "name": "stdout",
     "output_type": "stream",
     "text": [
      "5\n"
     ]
    }
   ],
   "source": [
    "def max_cows(N, heights):\n",
    "\n",
    "    inc_stack = []  # 单调递增栈\n",
    "    dec_stack = []  # 单调递减栈\n",
    "\n",
    "    # 右边第一个比当前奶牛高的位置\n",
    "    next_greater = [N] * N\n",
    "    # 左边第一个比当前奶牛矮的位置\n",
    "    prev_smaller = [-1] * N\n",
    "\n",
    "    # 从左到右构建单调递增栈\n",
    "    for i in range(N):\n",
    "        while inc_stack and heights[inc_stack[-1]] < heights[i]:\n",
    "            next_greater[inc_stack.pop()] = i\n",
    "        inc_stack.append(i)\n",
    "\n",
    "    # 从右到左构建单调递减栈\n",
    "    for i in range(N-1, -1, -1):\n",
    "        while dec_stack and heights[dec_stack[-1]] > heights[i]:\n",
    "            prev_smaller[dec_stack.pop()] = i\n",
    "        dec_stack.append(i)\n",
    "\n",
    "    # 确定最大长度\n",
    "    max_length = 0\n",
    "    for i in range(N):\n",
    "        if prev_smaller[i] != -1 and next_greater[i] != N:\n",
    "            # 确保没有相同高度的奶牛在区间内\n",
    "            if heights[i] > heights[prev_smaller[i]] and heights[i] < heights[next_greater[i]]:\n",
    "                max_length = max(max_length, next_greater[i] - prev_smaller[i] + 1)\n",
    "\n",
    "    return max_length\n",
    "\n",
    "N = int(input())\n",
    "height = []\n",
    "for _ in range(N):\n",
    "    height.append(int(input()))\n",
    "print(max_cows(N, height))\n"
   ]
  },
  {
   "cell_type": "code",
   "execution_count": null,
   "metadata": {},
   "outputs": [],
   "source": [
    "N = int(input())\n",
    "heights = [int(input()) for _ in range(N)]\n",
    "\n",
    "left_bound = [-1] * N # 左侧第一个≥h[i]的奶牛位置\n",
    "right_bound = [N] * N # 右侧第一个≤h[i]的奶牛位置\n",
    "\n",
    "stack = []  # 单调栈，存储索引\n",
    "\n",
    "# 求左侧第一个≥h[i]的奶牛位置\n",
    "for i in range(N):\n",
    "    # 栈不为空且栈顶元素高度小于当前奶牛高度\n",
    "    while stack and heights[stack[-1]] < heights[i]:\n",
    "        stack.pop()\n",
    "\n",
    "    if stack:\n",
    "        # 栈顶元素即为左侧第一个≥h[i]的奶牛位置\n",
    "        left_bound[i] = stack[-1]\n",
    "\n",
    "    stack.append(i)\n",
    "\n",
    "stack = []  # 清空栈以供寻找右边界使用\n",
    "\n",
    "# 求右侧第一个≤h[i]的奶牛位\n",
    "for i in range(N-1, -1, -1):\n",
    "    while stack and heights[stack[-1]] > heights[i]:\n",
    "        stack.pop()\n",
    "\n",
    "    if stack:\n",
    "        right_bound[i] = stack[-1]\n",
    "\n",
    "    stack.append(i)\n",
    "\n",
    "ans = 0\n",
    "\n",
    "for i in range(N):  # 枚举右端点 B寻找 A，更新 ans\n",
    "    for j in range(left_bound[i] + 1, i):\n",
    "        if right_bound[j] > i: \n",
    "            ans = max(ans, i - j + 1)\n",
    "            break\n",
    "print(ans)"
   ]
  },
  {
   "cell_type": "code",
   "execution_count": 12,
   "metadata": {},
   "outputs": [
    {
     "name": "stdout",
     "output_type": "stream",
     "text": [
      "5\n"
     ]
    }
   ],
   "source": [
    "def lengthOfLIS(nums):\n",
    "    if not nums:\n",
    "        return 0\n",
    "    \n",
    "    dp = [1] * len(nums)\n",
    "    \n",
    "    for i in range(1, len(nums)):\n",
    "        for j in range(i):\n",
    "            if nums[i] > nums[j]:\n",
    "                dp[i] = max(dp[i], dp[j] + 1)\n",
    "    \n",
    "    return max(dp)\n",
    "\n",
    "N = int(input())\n",
    "height = []\n",
    "for _ in range(N):\n",
    "    height.append(int(input()))\n",
    "print(lengthOfLIS(height)) "
   ]
  }
 ],
 "metadata": {
  "kernelspec": {
   "display_name": "py310",
   "language": "python",
   "name": "python3"
  },
  "language_info": {
   "codemirror_mode": {
    "name": "ipython",
    "version": 3
   },
   "file_extension": ".py",
   "mimetype": "text/x-python",
   "name": "python",
   "nbconvert_exporter": "python",
   "pygments_lexer": "ipython3",
   "version": "3.10.9"
  }
 },
 "nbformat": 4,
 "nbformat_minor": 2
}
