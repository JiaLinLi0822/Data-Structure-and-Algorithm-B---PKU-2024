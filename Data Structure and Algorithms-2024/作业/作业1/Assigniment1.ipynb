{
 "cells": [
  {
   "cell_type": "markdown",
   "metadata": {},
   "source": [
    "# Assignment 1\n",
    "Author: 李佳霖"
   ]
  },
  {
   "cell_type": "markdown",
   "metadata": {},
   "source": [
    "### 20742: 泰波拿契數"
   ]
  },
  {
   "cell_type": "code",
   "execution_count": 1,
   "metadata": {},
   "outputs": [
    {
     "name": "stdout",
     "output_type": "stream",
     "text": [
      "4\n"
     ]
    }
   ],
   "source": [
    "n = int(input())\n",
    "res = [0,1,1]\n",
    "for i in range(100):\n",
    "    res.append(res[-1]+res[-2]+res[-3])\n",
    "print(res[n])"
   ]
  },
  {
   "cell_type": "markdown",
   "metadata": {},
   "source": [
    "### 58A. Chat room"
   ]
  },
  {
   "cell_type": "code",
   "execution_count": 3,
   "metadata": {},
   "outputs": [
    {
     "name": "stdout",
     "output_type": "stream",
     "text": [
      "YES\n"
     ]
    }
   ],
   "source": [
    "str = input()\n",
    "ind_h = str.find('h')\n",
    "ind_e = str.find('e', ind_h)\n",
    "ind_l1 = str.find('l', ind_e)\n",
    "ind_l2 = str.find('l', ind_l1+1)\n",
    "ind_o = str.find('o', ind_l2)\n",
    "if ind_h < ind_e < ind_l1 < ind_l2 < ind_o:\n",
    "    print('YES')\n",
    "else:\n",
    "    print('NO')"
   ]
  },
  {
   "cell_type": "markdown",
   "metadata": {},
   "source": [
    "### String Task"
   ]
  },
  {
   "cell_type": "code",
   "execution_count": 26,
   "metadata": {},
   "outputs": [
    {
     "name": "stdout",
     "output_type": "stream",
     "text": [
      ".x.n.h.c.g.t.n.q.c.m\n"
     ]
    }
   ],
   "source": [
    "word = list(input())\n",
    "vowels = 'aeiouyAEIOUY'\n",
    "loc_consonants = []\n",
    "\n",
    "for i in range(len(word)):\n",
    "    if word[i] in vowels:\n",
    "        word[i] = ''\n",
    "    else:\n",
    "        loc_consonants.append(i)\n",
    "\n",
    "for j in range(len(loc_consonants)):\n",
    "    word[loc_consonants[j]] = '.' + word[loc_consonants[j]]\n",
    "\n",
    "word = ''.join(word)\n",
    "word = word.lower()\n",
    "print(word)"
   ]
  },
  {
   "cell_type": "markdown",
   "metadata": {},
   "source": [
    "### 22359: Goldbach Conjecture"
   ]
  },
  {
   "cell_type": "code",
   "execution_count": 27,
   "metadata": {},
   "outputs": [
    {
     "name": "stdout",
     "output_type": "stream",
     "text": [
      "3 7\n"
     ]
    }
   ],
   "source": [
    "def is_prime(n):\n",
    "    if n <= 1:\n",
    "        return False\n",
    "    for i in range(2, int(n**0.5) + 1):\n",
    "        if n % i == 0:\n",
    "            return False\n",
    "    return True\n",
    "\n",
    "def find_primes(sum):\n",
    "    for i in range(2, sum // 2 + 1):\n",
    "        if is_prime(i) and is_prime(sum - i):\n",
    "            return i, sum - i\n",
    "    return None\n",
    "\n",
    "sum = int(input())\n",
    "result = find_primes(sum)\n",
    "print(result[0], result[1])"
   ]
  },
  {
   "cell_type": "code",
   "execution_count": null,
   "metadata": {},
   "outputs": [],
   "source": [
    "def is_prime(x):\n",
    "    if (x == 2) or (x == 3):\n",
    "        return True\n",
    "    if (x % 6 != 1) and (x % 6 != 5):\n",
    "        return False\n",
    "    for i in range(5, int(x ** 0.5) + 1, 6):\n",
    "        if (x % i == 0) or (x % (i + 2) == 0):\n",
    "            return False\n",
    "    return True\n",
    "\n",
    "def find_primes(sum):\n",
    "    for i in range(2, sum // 2 + 1):\n",
    "        if is_prime(i) and is_prime(sum - i):\n",
    "            return i, sum - i\n",
    "    return None\n",
    "\n",
    "sum = int(input())\n",
    "result = find_primes(sum)\n",
    "print(result[0], result[1])"
   ]
  },
  {
   "cell_type": "markdown",
   "metadata": {},
   "source": [
    "### 23563 多项时间复杂度"
   ]
  },
  {
   "cell_type": "code",
   "execution_count": 10,
   "metadata": {},
   "outputs": [
    {
     "name": "stdout",
     "output_type": "stream",
     "text": [
      "n^0"
     ]
    }
   ],
   "source": [
    "n = input().split('+')\n",
    "items = []\n",
    "num = []\n",
    "power = []\n",
    "\n",
    "# Put the numbers and powers into separate lists\n",
    "for i in range(len(n)):\n",
    "    items.append(n[i].split('n^'))\n",
    "    if items[i][0] == '':\n",
    "        num.append(1)\n",
    "    else:\n",
    "        num.append(int(items[i][0]))\n",
    "    power.append(int(items[i][1]))\n",
    "\n",
    "# Find the maximum power\n",
    "maxp = -99\n",
    "while True:\n",
    "    maxp = max(power)\n",
    "    if num[power.index(maxp)] !=0:\n",
    "        break\n",
    "    else:\n",
    "        power[power.index(maxp)] = -99\n",
    "\n",
    "print('n^' + str(maxp), end='')\n"
   ]
  },
  {
   "cell_type": "markdown",
   "metadata": {},
   "source": [
    "### 24684：直播计票"
   ]
  },
  {
   "cell_type": "code",
   "execution_count": 39,
   "metadata": {},
   "outputs": [
    {
     "name": "stdout",
     "output_type": "stream",
     "text": [
      "3 5 6\n"
     ]
    }
   ],
   "source": [
    "numbers = list(map(int, input().split()))\n",
    "choices = set(numbers)\n",
    "frequency = {}\n",
    "for i in range(len(choices)):\n",
    "    frequency[list(choices)[i]] = 0\n",
    "\n",
    "for i in range(len(numbers)):\n",
    "    frequency[numbers[i]] += 1\n",
    "    \n",
    "max_frequency = max(frequency.values())\n",
    "\n",
    "# 按要求输出所有得票最多的选项\n",
    "print_list = [option for option, freq in frequency.items() if freq == max_frequency]\n",
    "print_list = sorted(print_list)\n",
    "print_list = [str(_) for _ in print_list]\n",
    "print(' '.join(print_list))"
   ]
  },
  {
   "cell_type": "code",
   "execution_count": null,
   "metadata": {},
   "outputs": [],
   "source": [
    "# 读取输入\n",
    "numbers = list(map(int, input().split()))\n",
    "\n",
    "# 初始化选项出现次数的字典\n",
    "frequency = {}\n",
    "\n",
    "# 统计每个选项的出现次数并找到最大的得票数\n",
    "max_frequency = 0\n",
    "for number in numbers:\n",
    "    frequency[number] = frequency.get(number, 0) + 1\n",
    "    max_frequency = max(max_frequency, frequency[number])\n",
    "\n",
    "# 构建得票最多的选项列表（按编号从小到大排序）\n",
    "print_list = [str(option) for option in sorted(frequency.keys()) if frequency[option] == max_frequency]\n",
    "\n",
    "# 输出结果\n",
    "print(' '.join(print_list))"
   ]
  },
  {
   "cell_type": "code",
   "execution_count": 27,
   "metadata": {},
   "outputs": [
    {
     "name": "stdout",
     "output_type": "stream",
     "text": [
      "Counter({10: 2, 3: 2, 1: 1, 2: 1})\n",
      "10 3\n"
     ]
    }
   ],
   "source": [
    "from collections import Counter\n",
    "\n",
    "# 读取输入\n",
    "numbers = list(map(int, input().split()))\n",
    "\n",
    "# 统计每个选项的出现次数\n",
    "frequency = Counter(numbers)\n",
    "\n",
    "print(frequency)\n",
    "# 找到得票最多的选项\n",
    "max_frequency = max(frequency.values())\n",
    "\n",
    "# 按要求输出所有得票最多的选项\n",
    "print_list = [str(option) for option, freq in frequency.items() if freq == max_frequency]\n",
    "\n",
    "# 按编号从小到大排序输出\n",
    "print(' '.join(sorted(print_list)))\n"
   ]
  }
 ],
 "metadata": {
  "kernelspec": {
   "display_name": "py310",
   "language": "python",
   "name": "python3"
  },
  "language_info": {
   "codemirror_mode": {
    "name": "ipython",
    "version": 3
   },
   "file_extension": ".py",
   "mimetype": "text/x-python",
   "name": "python",
   "nbconvert_exporter": "python",
   "pygments_lexer": "ipython3",
   "version": "3.10.9"
  }
 },
 "nbformat": 4,
 "nbformat_minor": 2
}
