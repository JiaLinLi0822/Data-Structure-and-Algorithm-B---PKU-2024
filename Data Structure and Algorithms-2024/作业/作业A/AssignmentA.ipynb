{
 "cells": [
  {
   "cell_type": "markdown",
   "metadata": {},
   "source": [
    "### Assignment A：图论：算法，树算及栈"
   ]
  },
  {
   "cell_type": "markdown",
   "metadata": {},
   "source": [
    "### 20743: 整人的提词本"
   ]
  },
  {
   "cell_type": "code",
   "execution_count": 1,
   "metadata": {},
   "outputs": [
    {
     "name": "stdout",
     "output_type": "stream",
     "text": [
      "openjudge\n"
     ]
    }
   ],
   "source": [
    "def reverse(s):\n",
    "\n",
    "    stack = []\n",
    "    for char in s:\n",
    "        if char == ')':\n",
    "            temp = []\n",
    "            while stack and stack[-1]!= '(':\n",
    "                temp.append(stack.pop())\n",
    "            stack.pop() # 去左括号\n",
    "            stack.extend(temp)\n",
    "        else:\n",
    "            stack.append(char)\n",
    "\n",
    "    return ''.join(_ for _ in stack)\n",
    "\n",
    "s = input().strip()\n",
    "print(reverse(s))\n"
   ]
  },
  {
   "cell_type": "markdown",
   "metadata": {},
   "source": [
    "### 02255：重建二叉树"
   ]
  },
  {
   "cell_type": "code",
   "execution_count": 3,
   "metadata": {},
   "outputs": [
    {
     "name": "stdout",
     "output_type": "stream",
     "text": [
      "ACBFGED\n"
     ]
    }
   ],
   "source": [
    "class TreeNode():\n",
    "    def __init__(self, x):\n",
    "        self.val = x\n",
    "        self.left = None\n",
    "        self.right = None\n",
    "\n",
    "def build_tree(preorder, inorder):\n",
    "\n",
    "    if not preorder or not inorder:\n",
    "        return None\n",
    "    \n",
    "    root = TreeNode(preorder.pop())\n",
    "    index = inorder.index(root.val)\n",
    "    root.left = build_tree(preorder, inorder[:index])\n",
    "    root.right = build_tree(preorder, inorder[index+1:])\n",
    "\n",
    "    return root\n",
    "\n",
    "def postTraversal(root):\n",
    "    if root is None:\n",
    "        return []\n",
    "    \n",
    "    res = []\n",
    "    res.extend(postTraversal(root.left))\n",
    "    res.extend(postTraversal(root.right))\n",
    "    res.append(root.val)\n",
    "\n",
    "    return res\n",
    "\n",
    "while True:\n",
    "    try:\n",
    "        preorder, inorder = map(list, input().split(' '))\n",
    "        root = build_tree(preorder[::-1], inorder)\n",
    "        res = postTraversal(root)\n",
    "        print(''.join(res))\n",
    "    except:\n",
    "        break"
   ]
  },
  {
   "cell_type": "code",
   "execution_count": 8,
   "metadata": {},
   "outputs": [
    {
     "ename": "ValueError",
     "evalue": "invalid literal for int() with base 10: ''",
     "output_type": "error",
     "traceback": [
      "\u001b[0;31m---------------------------------------------------------------------------\u001b[0m",
      "\u001b[0;31mValueError\u001b[0m                                Traceback (most recent call last)",
      "Cell \u001b[0;32mIn[8], line 24\u001b[0m\n\u001b[1;32m     22\u001b[0m \u001b[38;5;28;01mwhile\u001b[39;00m \u001b[38;5;28;01mTrue\u001b[39;00m:\n\u001b[1;32m     23\u001b[0m     \u001b[38;5;28;01mtry\u001b[39;00m:\n\u001b[0;32m---> 24\u001b[0m         n \u001b[38;5;241m=\u001b[39m \u001b[38;5;28;43mint\u001b[39;49m\u001b[43m(\u001b[49m\u001b[38;5;28;43minput\u001b[39;49m\u001b[43m(\u001b[49m\u001b[43m)\u001b[49m\u001b[43m)\u001b[49m\n\u001b[1;32m     25\u001b[0m         \u001b[38;5;28;01mif\u001b[39;00m n \u001b[38;5;241m==\u001b[39m \u001b[38;5;241m0\u001b[39m:\n\u001b[1;32m     26\u001b[0m             \u001b[38;5;28;01mbreak\u001b[39;00m\n",
      "\u001b[0;31mValueError\u001b[0m: invalid literal for int() with base 10: ''"
     ]
    }
   ],
   "source": [
    "from collections import deque\n",
    "\n",
    "def bfs(n):\n",
    "    q = deque()\n",
    "    inq = [False]*n #一个数的余数一定比数本身小\n",
    "    q.append('1')\n",
    "\n",
    "    while q:\n",
    "        num = q.popleft()\n",
    "        if int(num)!=0 and int(num)%n == 0:\n",
    "            print(num)\n",
    "            break\n",
    "        a = num + '0'\n",
    "        if not inq[int(a)%n]:\n",
    "            inq[int(a)%n] = True\n",
    "            q.append(a)\n",
    "        b = num + '1'\n",
    "        if not inq[int(b)%n]:\n",
    "            inq[int(b)%n] = True\n",
    "            q.append(b)\n",
    "\n",
    "while True:\n",
    "    try:\n",
    "        n = int(input())\n",
    "        if n == 0:\n",
    "            break\n",
    "        bfs(n)\n",
    "    except EOFError:\n",
    "        break\n"
   ]
  },
  {
   "cell_type": "code",
   "execution_count": 5,
   "metadata": {},
   "outputs": [
    {
     "name": "stdout",
     "output_type": "stream",
     "text": [
      "1110\n",
      "11001\n"
     ]
    }
   ],
   "source": [
    "from collections import deque\n",
    "\n",
    "def find_multiple(n):\n",
    "    # 使用队列实现BFS\n",
    "    q = deque()\n",
    "    # 初始化队列，存储的是(模n值, 对应的数字字符串)\n",
    "    q.append((1 % n, \"1\"))\n",
    "    visited = set([1 % n])  # 用于记录访问过的模n值，避免重复搜索\n",
    "\n",
    "    while q:\n",
    "        mod, num_str = q.popleft()\n",
    "\n",
    "        # 检查当前模n值是否为0，是则找到答案\n",
    "        if mod == 0:\n",
    "            return num_str\n",
    "\n",
    "        # 尝试在当前数字后加0或加1，生成新的数字，并计算模n值\n",
    "        for digit in [\"0\", \"1\"]:\n",
    "            new_num_str = num_str + digit\n",
    "            new_mod = (mod * 10 + int(digit)) % n\n",
    "\n",
    "            # 如果新模n值未访问过，则加入队列继续搜索\n",
    "            if new_mod not in visited:\n",
    "                q.append((new_mod, new_num_str))\n",
    "                visited.add(new_mod)\n",
    "\n",
    "def main():\n",
    "    while True:\n",
    "        n = int(input())\n",
    "        if n == 0:\n",
    "            break\n",
    "        print(find_multiple(n))\n",
    "\n",
    "if __name__ == \"__main__\":\n",
    "    main()"
   ]
  },
  {
   "cell_type": "code",
   "execution_count": 1,
   "metadata": {},
   "outputs": [
    {
     "name": "stdout",
     "output_type": "stream",
     "text": [
      "6\n"
     ]
    }
   ],
   "source": [
    "from collections import deque\n",
    "\n",
    "def bfs(grid, M, N, T):\n",
    "    directions = [(-1, 0), (1, 0), (0, -1), (0, 1)]\n",
    "    start_pos = None\n",
    "    sasuke_pos = None\n",
    "    \n",
    "    # Finding start and sasuke positions\n",
    "    for i in range(M):\n",
    "        for j in range(N):\n",
    "            if grid[i][j] == '@':\n",
    "                start_pos = (i, j)\n",
    "            elif grid[i][j] == '+':\n",
    "                sasuke_pos = (i, j)\n",
    "    \n",
    "    # BFS setup\n",
    "    queue = deque([(start_pos[0], start_pos[1], T, 0)])  # (x, y, chakra, time)\n",
    "    visited = [[[False] * (T + 1) for _ in range(N)] for __ in range(M)]\n",
    "    visited[start_pos[0]][start_pos[1]][T] = True\n",
    "    \n",
    "    while queue:\n",
    "        x, y, chakra, time = queue.popleft()\n",
    "        \n",
    "        for dx, dy in directions:\n",
    "            nx, ny = x + dx, y + dy\n",
    "            if 0 <= nx < M and 0 <= ny < N:\n",
    "                if grid[nx][ny] == '+':\n",
    "                    return time + 1\n",
    "                elif grid[nx][ny] == '*' and not visited[nx][ny][chakra]:\n",
    "                    visited[nx][ny][chakra] = True\n",
    "                    queue.append((nx, ny, chakra, time + 1))\n",
    "                elif grid[nx][ny] == '#' and chakra > 0 and not visited[nx][ny][chakra - 1]:\n",
    "                    visited[nx][ny][chakra - 1] = True\n",
    "                    queue.append((nx, ny, chakra - 1, time + 1))\n",
    "    \n",
    "    return -1\n",
    "\n",
    "M, N, T = map(int, input().split())\n",
    "grid = []\n",
    "for i in range(M):\n",
    "    grid.append(input())\n",
    "\n",
    "result = bfs(grid, M, N, T)\n",
    "print(result)"
   ]
  },
  {
   "cell_type": "markdown",
   "metadata": {},
   "source": [
    "### 20106：走山路"
   ]
  },
  {
   "cell_type": "code",
   "execution_count": 12,
   "metadata": {},
   "outputs": [
    {
     "name": "stdout",
     "output_type": "stream",
     "text": [
      "[2, 3, 'NO']\n"
     ]
    }
   ],
   "source": [
    "import heapq\n",
    "\n",
    "def dijkstra(grid, start, end):\n",
    "    m, n = len(grid), len(grid[0])\n",
    "    directions = [(-1, 0), (1, 0), (0, -1), (0, 1)]\n",
    "    min_energy = [[float('inf')] * n for _ in range(m)]\n",
    "    start_x, start_y = start\n",
    "    end_x, end_y = end\n",
    "    if grid[start_x][start_y] == '#' or grid[end_x][end_y] == '#':\n",
    "        return \"NO\"\n",
    "    \n",
    "    priority_queue = []\n",
    "    heapq.heappush(priority_queue, (0, start_x, start_y))\n",
    "    min_energy[start_x][start_y] = 0\n",
    "    \n",
    "    while priority_queue:\n",
    "        curr_energy, x, y = heapq.heappop(priority_queue)\n",
    "        \n",
    "        if (x, y) == (end_x, end_y):\n",
    "            return curr_energy\n",
    "        \n",
    "        for dx, dy in directions:\n",
    "            nx, ny = x + dx, y + dy\n",
    "            if 0 <= nx < m and 0 <= ny < n and grid[nx][ny] != '#':\n",
    "                new_energy = curr_energy + abs(int(grid[nx][ny]) - int(grid[x][y]))\n",
    "                if new_energy < min_energy[nx][ny]:\n",
    "                    min_energy[nx][ny] = new_energy\n",
    "                    heapq.heappush(priority_queue, (new_energy, nx, ny))\n",
    "    \n",
    "    return \"NO\"\n",
    "\n",
    "m, n, p = map(int, input().split())\n",
    "grid = []\n",
    "queries = []\n",
    "for _ in range(m):\n",
    "    grid.append(input().split())\n",
    "for _ in range(p):\n",
    "    sx, sy, ex, ey = map(int, input().split())\n",
    "    res = dijkstra(grid, (sx, sy), (ex, ey))\n",
    "    print(res)"
   ]
  },
  {
   "cell_type": "markdown",
   "metadata": {},
   "source": [
    "### 05442：兔子与星空"
   ]
  },
  {
   "cell_type": "code",
   "execution_count": 2,
   "metadata": {},
   "outputs": [
    {
     "name": "stdout",
     "output_type": "stream",
     "text": [
      "[('A', 'B', 12), ('B', 'I', 8), ('B', 'C', 10), ('C', 'D', 18), ('I', 'H', 35), ('H', 'G', 35), ('G', 'E', 38), ('E', 'F', 60)]\n",
      "216\n"
     ]
    }
   ],
   "source": [
    "import heapq\n",
    "\n",
    "def prim(graph, start):\n",
    "    mst = []\n",
    "    used = set([start])\n",
    "    edges = [\n",
    "        (cost, start, to)\n",
    "        for to, cost in graph[start].items()\n",
    "    ]\n",
    "    heapq.heapify(edges)\n",
    "\n",
    "    while edges:\n",
    "        cost, frm, to = heapq.heappop(edges)\n",
    "        if to not in used:\n",
    "            used.add(to)\n",
    "            mst.append((frm, to, cost))\n",
    "            for to_next, cost2 in graph[to].items():\n",
    "                if to_next not in used:\n",
    "                    heapq.heappush(edges, (cost2, to, to_next))\n",
    "\n",
    "    return mst\n",
    "\n",
    "n = int(input())\n",
    "graph = {chr(i+65): {} for i in range(n)} # ASCII encoding\n",
    "for i in range(n-1):\n",
    "    data = input().split()\n",
    "    star = data[0]\n",
    "    m = int(data[1]) # how many stars is connected to current star\n",
    "    for j in range(m):\n",
    "        to_star = data[2+j*2]\n",
    "        cost = int(data[3+j*2])\n",
    "        graph[star][to_star] = cost\n",
    "        graph[to_star][star] = cost\n",
    "mst = prim(graph, 'A')\n",
    "print(mst)\n",
    "print(sum(x[2] for x in mst))"
   ]
  }
 ],
 "metadata": {
  "kernelspec": {
   "display_name": "py310",
   "language": "python",
   "name": "python3"
  },
  "language_info": {
   "codemirror_mode": {
    "name": "ipython",
    "version": 3
   },
   "file_extension": ".py",
   "mimetype": "text/x-python",
   "name": "python",
   "nbconvert_exporter": "python",
   "pygments_lexer": "ipython3",
   "version": "3.10.9"
  }
 },
 "nbformat": 4,
 "nbformat_minor": 2
}
