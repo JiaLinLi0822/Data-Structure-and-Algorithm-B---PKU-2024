{
 "cells": [
  {
   "cell_type": "markdown",
   "metadata": {},
   "source": [
    "# Assignment 2\n",
    "**Data Struture and Algorithm 2024 Spring** <br>\n",
    "**Author: Jialin Li @PKU**"
   ]
  },
  {
   "cell_type": "markdown",
   "metadata": {},
   "source": [
    "### 27653 Fraction类"
   ]
  },
  {
   "cell_type": "code",
   "execution_count": 12,
   "metadata": {},
   "outputs": [
    {
     "name": "stdout",
     "output_type": "stream",
     "text": [
      "1/1\n"
     ]
    }
   ],
   "source": [
    "# find the greatest common divisor\n",
    "def gcd(m, n):\n",
    "    while m % n != 0:\n",
    "        oldm = m\n",
    "        oldn = n\n",
    "\n",
    "        m = oldn\n",
    "        n = oldm % oldn\n",
    "    return n\n",
    "\n",
    "class Fraction:\n",
    "\n",
    "    def __init__(self, num, den):\n",
    "        self.num = num\n",
    "        self.den = den\n",
    "\n",
    "    def show(self):\n",
    "        print(self.num, \"/\", self.den)\n",
    "\n",
    "    def __str__(self):\n",
    "        return str(self.num) + \"/\" + str(self.den)\n",
    "    \n",
    "    def __add__(self, otherfraction):\n",
    "        newnum = self.num * otherfraction.den + self.den * otherfraction.num\n",
    "        newden = self.den * otherfraction.den\n",
    "        common = gcd(newnum, newden)\n",
    "        return Fraction(newnum // common, newden // common)\n",
    "    \n",
    "    def __eq__(self, other):\n",
    "        firstnum = self.num * other.den\n",
    "        secondnum = other.num * self.den\n",
    "        return firstnum == secondnum\n",
    "\n",
    "num1, den1, num2, den2 = map(int, input().split())\n",
    "f1 = Fraction(num1, den1)\n",
    "f2 = Fraction(num2, den2)\n",
    "print(f1 + f2)\n"
   ]
  },
  {
   "cell_type": "markdown",
   "metadata": {},
   "source": [
    "### 04110:圣诞老人的礼物"
   ]
  },
  {
   "cell_type": "markdown",
   "metadata": {},
   "source": [
    "**Solution1**: 利用切片的性质"
   ]
  },
  {
   "cell_type": "code",
   "execution_count": 27,
   "metadata": {},
   "outputs": [
    {
     "name": "stdout",
     "output_type": "stream",
     "text": [
      "[25.0, 25.0, 25.0, 25.0, 51.5, 51.5, 51.5, 51.5, 51.5, 51.5, 51.5, 51.5, 38.0, 38.0, 38.0, 38.0, 38.0, 38.0, 38.0, 295.5, 295.5]\n",
      "1193.0\n"
     ]
    }
   ],
   "source": [
    "n, m = map(int, input().split())\n",
    "candies = []\n",
    "\n",
    "for i in range(n):\n",
    "    v, w = map(int, input().split())\n",
    "    for j in range(w):\n",
    "        candies.append(v/w)\n",
    "\n",
    "candies.sort(reverse=True)\n",
    "value = sum(candies[:m])\n",
    "\n",
    "print(\"{:.1f}\".format(value))"
   ]
  },
  {
   "cell_type": "markdown",
   "metadata": {},
   "source": [
    "### 18182: 打怪兽"
   ]
  },
  {
   "cell_type": "code",
   "execution_count": 22,
   "metadata": {},
   "outputs": [
    {
     "data": {
      "text/plain": [
       "3"
      ]
     },
     "execution_count": 22,
     "metadata": {},
     "output_type": "execute_result"
    }
   ],
   "source": [
    "nCase=int(input())\n",
    "for i in range(nCase):\n",
    "    s=\"alive\"\n",
    "    t={}\n",
    "    n,m,b=map(int,input().split())\n",
    "    for i in range(n):\n",
    "        ti,xi=map(int,input().split())\n",
    "        if ti in t:\n",
    "            t[ti].append(xi)\n",
    "        else:\n",
    "            t[ti]=[xi]\n",
    "    tt = sorted(t) # 将技能按照时刻升序排序\n",
    "    for ti in tt:\n",
    "        if m>=len(t[ti]): \n",
    "            # 如果技能数量多于一个时刻可以释放的技能数量，那么就释放所有技能\n",
    "            for xi in t[ti]:\n",
    "                b-=xi\n",
    "            if b<=0:\n",
    "                s=ti\n",
    "                break\n",
    "        else: \n",
    "            # 如果技能数量少于一个时刻可以释放的技能数量，那么就释放伤害最高的m个技能\n",
    "            t[ti].sort(reverse=True)\n",
    "            for i in range(m):\n",
    "                b-=t[ti][i]\n",
    "            if b<=0:\n",
    "                s=ti\n",
    "                break\n",
    "    print(s)\n"
   ]
  },
  {
   "cell_type": "markdown",
   "metadata": {},
   "source": [
    "### 230B. T-primes"
   ]
  },
  {
   "cell_type": "code",
   "execution_count": 24,
   "metadata": {},
   "outputs": [
    {
     "name": "stdout",
     "output_type": "stream",
     "text": [
      "YES\n",
      "NO\n",
      "NO\n"
     ]
    }
   ],
   "source": [
    "import math\n",
    "n = int(input())\n",
    "nums = input().split()\n",
    "\n",
    "def tPrime(num):\n",
    "    ncount = 0\n",
    "    for i in range(2, math.ceil(num**(1/2))+1):\n",
    "        if num % i == 0 and num // i != i:\n",
    "            ncount += 2\n",
    "        elif num % i == 0 and num // i == i:\n",
    "            ncount += 1\n",
    "    if ncount == 1:\n",
    "        return True\n",
    "    else:\n",
    "        return False\n",
    "\n",
    "for _ in range(n): \n",
    "    if tPrime(int(nums[_])):\n",
    "        print(\"YES\")\n",
    "    else:\n",
    "        print(\"NO\")"
   ]
  },
  {
   "cell_type": "code",
   "execution_count": null,
   "metadata": {},
   "outputs": [],
   "source": [
    "n = 1000000\n",
    "a = [1] * n # 用于判断是否是T-prime\n",
    "s = set() \n",
    "\n",
    "#directly add the square of prime into a set, then check if num_input is in set.\n",
    "for i in range(2,n):\n",
    "    if a[i]: # 如果a[i]为1\n",
    "        s.add(i*i)\n",
    "        for j in range(i*i,n,i): # 从i*i开始，步长为i，将a中的数置为0，即i的倍数都不是T-prime\n",
    "            a[j] = 0\n",
    "\n",
    "input()\n",
    "for x in map(int,input().split()):\n",
    "    print([\"NO\",\"YES\"][x in s]) # 通过布尔索引判断x是否在s中"
   ]
  },
  {
   "cell_type": "markdown",
   "metadata": {},
   "source": [
    "### 1364A. XXXXX"
   ]
  },
  {
   "cell_type": "code",
   "execution_count": 27,
   "metadata": {},
   "outputs": [
    {
     "name": "stdout",
     "output_type": "stream",
     "text": [
      "2\n",
      "3\n"
     ]
    }
   ],
   "source": [
    "n = int(input())\n",
    "for i in range(n):\n",
    "    num, div = map(int, input().split())\n",
    "    arr = list(map(int, input().split())) \n",
    "    counter = 0\n",
    "\n",
    "    prefix_sum = [0] * (num + 1)\n",
    "    for i in range(num):\n",
    "        prefix_sum[i + 1] = prefix_sum[i] + arr[i] # 计算前缀和\n",
    "\n",
    "    max_length = -1\n",
    "    for i in range(num):\n",
    "        for j in range(i + 1, num + 1):\n",
    "            subarray_sum = prefix_sum[j] - prefix_sum[i]\n",
    "            if subarray_sum % div != 0:\n",
    "                max_length = max(max_length, j - i)\n",
    "    \n",
    "    print(max_length)"
   ]
  },
  {
   "cell_type": "code",
   "execution_count": 44,
   "metadata": {},
   "outputs": [
    {
     "name": "stdout",
     "output_type": "stream",
     "text": [
      "2\n",
      "3\n",
      "-1\n"
     ]
    }
   ],
   "source": [
    "def prefix_sum(nums):\n",
    "    prefix = []  # 存储前缀和\n",
    "    total = 0    # 当前总和\n",
    "    for num in nums:\n",
    "        total += num\n",
    "        prefix.append(total)\n",
    "    return prefix\n",
    "\n",
    "def suffix_sum(nums):\n",
    "    suffix = []  # 存储后缀和\n",
    "    total = 0    # 当前总和\n",
    "    # 首先将列表反转\n",
    "    reversed_nums = nums[::-1]\n",
    "    for num in reversed_nums:\n",
    "        total += num\n",
    "        suffix.append(total)\n",
    "    # 将结果反转回来\n",
    "    suffix.reverse()\n",
    "    return suffix\n",
    "\n",
    "t = int(input())  # 输入测试案例数量\n",
    "for _ in range(t):\n",
    "    N, x = map(int, input().split())  # 输入数组长度和不喜欢的数字\n",
    "    a = [int(i) for i in input().split()]  # 输入数组元素\n",
    "    aprefix_sum = prefix_sum(a)  # 计算数组的前缀和\n",
    "    asuffix_sum = suffix_sum(a)  # 计算数组的后缀和\n",
    "\n",
    "    left = 0       # 左指针\n",
    "    right = N - 1  # 右指针\n",
    "    if right == 0:\n",
    "        if a[0] % x != 0:  # 如果数组仅有一个元素且不能被 x 整除\n",
    "            print(1)        # 输出1\n",
    "        else:\n",
    "            print(-1)       # 否则输出-1\n",
    "        continue\n",
    "\n",
    "    leftmax = 0    # 左侧最大长度\n",
    "    rightmax = 0   # 右侧最大长度\n",
    "    while left != right:\n",
    "        total = asuffix_sum[left]  # 计算左侧子数组的后缀和\n",
    "        if total % x != 0:         # 如果不能被 x 整除\n",
    "            leftmax = right - left + 1  # 更新左侧最大长度\n",
    "            break\n",
    "        else:\n",
    "            left += 1   # 否则左指针右移\n",
    "\n",
    "    left = 0\n",
    "    right = N - 1\n",
    "    while left != right:\n",
    "        total = aprefix_sum[right]  # 计算右侧子数组的前缀和\n",
    "        if total % x != 0:          # 如果不能被 x 整除\n",
    "            rightmax = right - left + 1  # 更新右侧最大长度\n",
    "            break\n",
    "        else:\n",
    "            right -= 1  # 否则右指针左移\n",
    "    \n",
    "    if leftmax == 0 and rightmax == 0:\n",
    "        print(-1)   # 如果没有满足条件的子数组，输出-1\n",
    "    else:\n",
    "        print(max(leftmax, rightmax))  # 输出最大长度\n"
   ]
  },
  {
   "cell_type": "code",
   "execution_count": 40,
   "metadata": {},
   "outputs": [
    {
     "data": {
      "text/plain": [
       "0"
      ]
     },
     "execution_count": 40,
     "metadata": {},
     "output_type": "execute_result"
    }
   ],
   "source": [
    "6%3"
   ]
  },
  {
   "cell_type": "markdown",
   "metadata": {},
   "source": [
    "### 18176:2050年成绩计算"
   ]
  },
  {
   "cell_type": "code",
   "execution_count": 31,
   "metadata": {},
   "outputs": [
    {
     "name": "stdout",
     "output_type": "stream",
     "text": [
      "0\n",
      "1.33\n",
      "14.50\n"
     ]
    }
   ],
   "source": [
    "n = 10000 # 不用那么多\n",
    "a = [1] * n # 用于判断是否是T-prime\n",
    "s = set() \n",
    "\n",
    "#directly add the square of prime into a set, then check if num_input is in set.\n",
    "for i in range(2,n):\n",
    "    if a[i]: # 如果a[i]为1\n",
    "        s.add(i*i)\n",
    "        for j in range(i*i,n,i): # 从i*i开始，步长为i，将a中的数置为0，即i的倍数都不是T-prime\n",
    "            a[j] = 0\n",
    "\n",
    "m, n = map(int, input().split())\n",
    "for i in range(m):\n",
    "    score = list(map(int, input().split()))\n",
    "    for j in range(len(score)):\n",
    "        if score[j] not in s:\n",
    "            score[j] = 0\n",
    "\n",
    "    res = sum(score)/len(score)\n",
    "    print(\"%.2f\" % float(res) if res != 0 else \"0\")\n",
    "    # print(\"{:.2f}\".format(res))\n",
    "    # print(round(res, 2))\n",
    "    # print(\"%.2f\" % round(res, 2))"
   ]
  }
 ],
 "metadata": {
  "kernelspec": {
   "display_name": "py310",
   "language": "python",
   "name": "python3"
  },
  "language_info": {
   "codemirror_mode": {
    "name": "ipython",
    "version": 3
   },
   "file_extension": ".py",
   "mimetype": "text/x-python",
   "name": "python",
   "nbconvert_exporter": "python",
   "pygments_lexer": "ipython3",
   "version": "3.10.9"
  }
 },
 "nbformat": 4,
 "nbformat_minor": 2
}
