{
 "cells": [
  {
   "cell_type": "markdown",
   "metadata": {},
   "source": [
    "# Assignment 3\n",
    "Edit by LJL@PKU"
   ]
  },
  {
   "cell_type": "markdown",
   "metadata": {},
   "source": [
    "### 02945：拦截导弹"
   ]
  },
  {
   "cell_type": "code",
   "execution_count": 4,
   "metadata": {},
   "outputs": [
    {
     "name": "stdout",
     "output_type": "stream",
     "text": [
      "6\n"
     ]
    }
   ],
   "source": [
    "k = int(input())\n",
    "m = list(map(int, input().split()))\n",
    "dp = [1]*k # 用于记录截止到某一位置时的最大不增子序列\n",
    "for i in range(k):\n",
    "    for j in range(i):\n",
    "        if m[j]>=m[i]: #为了确认列表中第i个元素是否比第j个元素小，若小，则直接继承之前计算过的到第j个位置的最长不增子序列\n",
    "            dp[i] = max(dp[j]+1, dp[i]) # dp[j]+1便为到第j个元素的最长不增子序列加上第i个元素后的新构成的子序列\n",
    "res = max(dp)\n",
    "print(res)\n"
   ]
  },
  {
   "cell_type": "markdown",
   "metadata": {},
   "source": [
    "### 04147：汉诺塔问题"
   ]
  },
  {
   "cell_type": "code",
   "execution_count": 10,
   "metadata": {},
   "outputs": [
    {
     "name": "stdout",
     "output_type": "stream",
     "text": [
      "1:a->b\n",
      "2:a->c\n",
      "1:b->c\n",
      "3:a->b\n",
      "1:c->a\n",
      "2:c->b\n",
      "1:a->b\n",
      "4:a->c\n",
      "1:b->c\n",
      "2:b->a\n",
      "1:c->a\n",
      "3:b->c\n",
      "1:a->b\n",
      "2:a->c\n",
      "1:b->c\n"
     ]
    }
   ],
   "source": [
    "numDisks, init, temp, desti = input().split()\n",
    "numDisks = int(numDisks)\n",
    "\n",
    "def moveOne(numDisk, strinit, strdesti):\n",
    "    print('{}:{}->{}'.format(numDisk, strinit, strdesti))\n",
    "\n",
    "def move(numDisks, strinit, strtemp, strdesti):\n",
    "    if numDisks == 1:\n",
    "        moveOne(numDisks, strinit, strdesti)\n",
    "    else:\n",
    "        move(numDisks-1, strinit, strdesti, strtemp) # 把前面n-1个盘子借助第3座移动到第2座\n",
    "        moveOne(numDisks, strinit, strdesti) # 把第1座上的第n个盘子移动到第3座\n",
    "        move(numDisks-1, strtemp, strinit, strdesti) # 把第2座上的n-1个盘子借助第1座移动到第3座\n",
    "\n",
    "move(numDisks, init, temp, desti)\n"
   ]
  },
  {
   "cell_type": "markdown",
   "metadata": {},
   "source": [
    "### 03253：约瑟夫问题"
   ]
  },
  {
   "cell_type": "code",
   "execution_count": 31,
   "metadata": {},
   "outputs": [
    {
     "name": "stdout",
     "output_type": "stream",
     "text": [
      "6,2,7,4,3,5,1,8\n"
     ]
    }
   ],
   "source": [
    "from collections import deque\n",
    "while True:\n",
    "    n, p, m = map(int, input().split())\n",
    "    if n == 0 and p == 0 and m == 0:\n",
    "        break\n",
    "    childs = deque([_ for _ in range(1,n+1)])\n",
    "    res = []\n",
    "\n",
    "    for i in range(1,p):\n",
    "        child = childs[0]\n",
    "        childs.popleft()\n",
    "        childs.append(child)\n",
    "\n",
    "    while len(childs)>0:\n",
    "        for i in range(1,m):\n",
    "            child =childs[0]\n",
    "            childs.popleft()\n",
    "            childs.append(child)\n",
    "        leftchild = childs[0]\n",
    "        childs.popleft()\n",
    "        res.append(str(leftchild))\n",
    "\n",
    "    print((',').join(res))"
   ]
  },
  {
   "cell_type": "markdown",
   "metadata": {},
   "source": [
    "### 21554:排队做实验 (greedy)v0.2**"
   ]
  },
  {
   "cell_type": "code",
   "execution_count": 37,
   "metadata": {},
   "outputs": [
    {
     "ename": "ValueError",
     "evalue": "invalid literal for int() with base 10: ''",
     "output_type": "error",
     "traceback": [
      "\u001b[0;31m---------------------------------------------------------------------------\u001b[0m",
      "\u001b[0;31mValueError\u001b[0m                                Traceback (most recent call last)",
      "Cell \u001b[0;32mIn[37], line 1\u001b[0m\n\u001b[0;32m----> 1\u001b[0m n\u001b[38;5;241m=\u001b[39m\u001b[38;5;28;43mint\u001b[39;49m\u001b[43m(\u001b[49m\u001b[38;5;28;43minput\u001b[39;49m\u001b[43m(\u001b[49m\u001b[43m)\u001b[49m\u001b[43m)\u001b[49m\n\u001b[1;32m      2\u001b[0m s\u001b[38;5;241m=\u001b[39m[\u001b[38;5;28mint\u001b[39m(x) \u001b[38;5;28;01mfor\u001b[39;00m x \u001b[38;5;129;01min\u001b[39;00m \u001b[38;5;28minput\u001b[39m()\u001b[38;5;241m.\u001b[39msplit()]\n\u001b[1;32m      3\u001b[0m ss,q\u001b[38;5;241m=\u001b[39m[],[]\n",
      "\u001b[0;31mValueError\u001b[0m: invalid literal for int() with base 10: ''"
     ]
    }
   ],
   "source": [
    "n=int(input())\n",
    "s=[int(x) for x in input().split()]\n",
    "ss,q=[],[]\n",
    "ans=0\n",
    "for i in range(n):\n",
    "    ss.append([s[i],i+1])\n",
    "ss.sort()\n",
    "for i in range(n):\n",
    "    q.append(ss[i][1])\n",
    "    ans+=(n-i-1)*ss[i][0]\n",
    "print(' '.join(str(x) for x in q))\n",
    "print(\"{:.2f}\".format(ans/n))"
   ]
  },
  {
   "cell_type": "markdown",
   "metadata": {},
   "source": [
    "### **19963:买学区房**"
   ]
  },
  {
   "cell_type": "code",
   "execution_count": 73,
   "metadata": {},
   "outputs": [
    {
     "name": "stdout",
     "output_type": "stream",
     "text": [
      "0\n"
     ]
    }
   ],
   "source": [
    "import re\n",
    "n = int(input())\n",
    "dis = input()\n",
    "price = list(input().split())\n",
    "price = [int(_) for _ in price]\n",
    "dis = re.findall(r'\\((\\d+),(\\d+)\\)', dis)\n",
    "dis = [int(x)+int(y) for x, y in dis]\n",
    "\n",
    "c1 = [dis[_]/int(price[_]) for _ in range(n)]\n",
    "sortc1 = sorted(c1)\n",
    "sortprice = sorted(price)\n",
    "\n",
    "def mid(list):\n",
    "    nlen = len(list)\n",
    "    if nlen % 2 == 0:\n",
    "        res = (list[nlen//2] + list[nlen//2-1])/2\n",
    "    else:\n",
    "        res = list[nlen//2]\n",
    "\n",
    "    return res\n",
    "\n",
    "midc1 = mid(sortc1)\n",
    "midprice = mid(sortprice)\n",
    "\n",
    "count = 0\n",
    "for i in range(n):\n",
    "    if c1[i] > midc1 and price[i] < midprice:\n",
    "        count +=1\n",
    "\n",
    "print(count)\n"
   ]
  },
  {
   "cell_type": "markdown",
   "metadata": {},
   "source": [
    "### **27300：模型整理**"
   ]
  },
  {
   "cell_type": "code",
   "execution_count": 32,
   "metadata": {},
   "outputs": [
    {
     "name": "stdout",
     "output_type": "stream",
     "text": [
      "1.3B\n",
      "340M\n",
      "350M\n",
      "110M\n",
      "175B\n",
      "Bert: 110M, 340M\n",
      "GPT: 350M, 1.3B, 175B\n"
     ]
    }
   ],
   "source": [
    "import re\n",
    "\n",
    "n = int(input())\n",
    "models = {}\n",
    "pattern = r\"[-+]?\\d*\\.\\d+([eE][-+]?\\d+)?\"\n",
    "\n",
    "for i in range(n):\n",
    "    model, paNum = input().split('-') # model and parameter numbers\n",
    "    # num_match = re.search(pattern, paNum)\n",
    "    num = paNum[:-1]\n",
    "    # num = num_match.group()\n",
    "    if paNum[-1] == 'B':\n",
    "        num = float(num) * 1e9\n",
    "    elif paNum[-1] == 'M':\n",
    "        num = float(num) * 1e6\n",
    "\n",
    "    if model not in models:\n",
    "        models[model] = []\n",
    "    models[model].append([num,paNum])\n",
    "\n",
    "# models = {key: sorted(values) for key, values in models.items()}\n",
    "sorted_models = sorted(models.items())\n",
    "\n",
    "for model, parameters in sorted_models:\n",
    "    parameters = sorted(parameters, key = lambda x: x[0])  # 参数量从小到大排序\n",
    "    # parameters_str = ', '.join([f'{int(param):,d}' for param in parameters])  # 将参数量格式化为带有千位分隔符的字符串\n",
    "    parameters_str = ', '.join([f'{param[1]}' for param in parameters])  # 将参数量格式化为带有千位分隔符的字符串\n",
    "    print(f'{model}: {parameters_str}')"
   ]
  },
  {
   "cell_type": "code",
   "execution_count": 29,
   "metadata": {},
   "outputs": [
    {
     "name": "stdout",
     "output_type": "stream",
     "text": [
      "No match found\n"
     ]
    }
   ],
   "source": [
    "import re\n",
    "\n",
    "pattern = r\"[-+]?\\d*\\.\\d+([eE][-+]?\\d+)?\"\n",
    "search_string = \"340M\"\n",
    "\n",
    "match = re.search(pattern, search_string)\n",
    "if match:\n",
    "    print(match.group())  # 输出: 340M\n",
    "else:\n",
    "    print(\"No match found\")\n"
   ]
  }
 ],
 "metadata": {
  "kernelspec": {
   "display_name": "py310",
   "language": "python",
   "name": "python3"
  },
  "language_info": {
   "codemirror_mode": {
    "name": "ipython",
    "version": 3
   },
   "file_extension": ".py",
   "mimetype": "text/x-python",
   "name": "python",
   "nbconvert_exporter": "python",
   "pygments_lexer": "ipython3",
   "version": "3.10.9"
  }
 },
 "nbformat": 4,
 "nbformat_minor": 2
}
