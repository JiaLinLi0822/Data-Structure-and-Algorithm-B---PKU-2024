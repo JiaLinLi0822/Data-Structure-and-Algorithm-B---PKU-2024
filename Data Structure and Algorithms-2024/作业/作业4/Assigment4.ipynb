{
 "cells": [
  {
   "cell_type": "markdown",
   "metadata": {},
   "source": [
    "## Assigment 4\n",
    "**Edit by LJL@PKU**"
   ]
  },
  {
   "cell_type": "markdown",
   "metadata": {},
   "source": [
    "### 05902：双端队列"
   ]
  },
  {
   "cell_type": "code",
   "execution_count": 8,
   "metadata": {},
   "outputs": [
    {
     "name": "stdout",
     "output_type": "stream",
     "text": [
      "3 4\n"
     ]
    }
   ],
   "source": [
    "class deque():\n",
    "    def __init__(self):\n",
    "        self.items = []\n",
    "\n",
    "    def addFront(self, item):\n",
    "        self.items.insert(0, item)\n",
    "\n",
    "    def addRear(self, item):\n",
    "        self.items.append(item)\n",
    "\n",
    "    def removeFront(self):\n",
    "        return self.items.pop(0)\n",
    "\n",
    "    def removeRear(self):\n",
    "        return self.items.pop()\n",
    "\n",
    "    def isEmpty(self):\n",
    "        return self.items == []\n",
    "\n",
    "    def size(self):\n",
    "        return len(self.items)\n",
    "\n",
    "t = int(input())\n",
    "for i in range(t):\n",
    "    n = int(input())\n",
    "    d = deque()\n",
    "    for j in range(n):\n",
    "        type, value = map(int, input().split())\n",
    "        if type == 1:\n",
    "            d.addRear(value)\n",
    "        elif type == 2:\n",
    "            if value == 0:\n",
    "                d.removeFront()\n",
    "            else:\n",
    "                d.removeRear()\n",
    "    print('NULL' if d.isEmpty() else ' '.join(map(str, d.items)))"
   ]
  },
  {
   "cell_type": "markdown",
   "metadata": {},
   "source": [
    "### 02694：波兰表达式"
   ]
  },
  {
   "cell_type": "code",
   "execution_count": 14,
   "metadata": {},
   "outputs": [
    {
     "name": "stdout",
     "output_type": "stream",
     "text": [
      "1357.000000\n"
     ]
    }
   ],
   "source": [
    "class Stack():\n",
    "    def __init__(self):\n",
    "        self.items = []\n",
    "\n",
    "    def push(self, item):\n",
    "        self.items.append(item)\n",
    "\n",
    "    def pop(self):\n",
    "        return self.items.pop()\n",
    "\n",
    "    def isEmpty(self):\n",
    "        return self.items == []\n",
    "\n",
    "    def size(self):\n",
    "        return len(self.items)\n",
    "    \n",
    "a = list(input().split())\n",
    "f = ['+', '-', '*', '/']\n",
    "s = Stack()\n",
    "for i in range(len(a)):\n",
    "    if a[i] not in f:\n",
    "        a[i] = float(a[i])\n",
    "\n",
    "for i in range(len(a), 0, -1):\n",
    "    if a[i-1] in f:\n",
    "        if a[i-1] == '+':\n",
    "            s.push(s.pop() + s.pop())\n",
    "        elif a[i-1] == '-':\n",
    "            s.push(s.pop() - s.pop())\n",
    "        elif a[i-1] == '*':\n",
    "            s.push(s.pop() * s.pop())\n",
    "        elif a[i-1] == '/':\n",
    "            s.push(s.pop() / s.pop())\n",
    "    else:\n",
    "        s.push(a[i-1])\n",
    "print(\"{:.6f}\".format(float(s.pop())))\n"
   ]
  },
  {
   "cell_type": "markdown",
   "metadata": {},
   "source": [
    "### 24591：中序表达式转后序表达式\n"
   ]
  },
  {
   "cell_type": "code",
   "execution_count": 38,
   "metadata": {},
   "outputs": [
    {
     "name": "stdout",
     "output_type": "stream",
     "text": [
      "['3', '3', '4', '+', '2', '3.5', '+', '*', '4', '5', '+', '/', '*']\n",
      "3 3 4 + 2 3.5 + * 4 5 + / *\n"
     ]
    }
   ],
   "source": [
    "import re\n",
    "class Stack():\n",
    "    def __init__(self):\n",
    "        self.items = []\n",
    "\n",
    "    def push(self, item):\n",
    "        self.items.append(item)\n",
    "\n",
    "    def pop(self):\n",
    "        return self.items.pop()\n",
    "\n",
    "    def isEmpty(self):\n",
    "        return self.items == []\n",
    "\n",
    "    def size(self):\n",
    "        return len(self.items)\n",
    "    \n",
    "n = int(input())\n",
    "f = ['+', '-', '*', '/', '(', ')']\n",
    "operator = Stack()\n",
    "for i in range(n):\n",
    "    num = [] \n",
    "    expression = input()\n",
    "    exp = re.findall(r'\\d+\\.\\d+|\\d+|[-+*/()]', expression) # expression\n",
    "    for j in range(len(exp)):\n",
    "        if exp[j] in f:\n",
    "            if exp[j] == ')':\n",
    "                while True:\n",
    "                    op = operator.pop()\n",
    "                    if op == '(':\n",
    "                        break\n",
    "                    num.append(op)\n",
    "            else:\n",
    "                if exp[j] == '+' or exp[j] == '-':\n",
    "                    while not operator.isEmpty() and operator.items[-1] != '(':\n",
    "                        num.append(operator.pop())\n",
    "                elif exp[j] == '*' or exp[j] == '/':\n",
    "                    while not operator.isEmpty() and (operator.items[-1] == '*' or operator.items[-1] == '/'):\n",
    "                        num.append(operator.pop())\n",
    "                operator.push(exp[j])\n",
    "\n",
    "        else:\n",
    "            num.append(exp[j])\n",
    "    \n",
    "    while not operator.isEmpty():\n",
    "        num.append(operator.pop())\n",
    "    print(' '.join(num))\n",
    "\n"
   ]
  },
  {
   "cell_type": "markdown",
   "metadata": {},
   "source": [
    "### 22068：合法出栈序列"
   ]
  },
  {
   "cell_type": "code",
   "execution_count": 39,
   "metadata": {},
   "outputs": [
    {
     "name": "stdout",
     "output_type": "stream",
     "text": [
      "YES\n",
      "NO\n",
      "NO\n",
      "NO\n",
      "NO\n",
      "NO\n",
      "NO\n",
      "NO\n",
      "NO\n",
      "NO\n"
     ]
    }
   ],
   "source": [
    "def isPopSeq(s1,s2):#判断s2是不是s1经出入栈得到的出栈序列\n",
    "\tstack = []\n",
    "\tif len(s1) != len(s2):\n",
    "\t\treturn False\n",
    "\telse:\n",
    "\t\tL = len(s1)\n",
    "\t\tstack.append(s1[0])\n",
    "\t\tp1,p2 = 1,0 #p1指向s1,p2指向s2\n",
    "\t\twhile p1 < L:\n",
    "\t\t\tif len(stack) > 0 and stack[-1] == s2[p2]: #栈顶元素与s2[p2]匹配\n",
    "\t\t\t\tstack.pop()\n",
    "\t\t\t\tp2 += 1\n",
    "\t\t\telse:\n",
    "\t\t\t\tstack.append(s1[p1])\n",
    "\t\t\t\tp1 += 1\n",
    "\t\treturn \"\".join(stack[::-1]) == s2[p2:] #判断栈中剩余元素与s2[p2:]是否匹配\n",
    "\t\n",
    "s1 = input()\n",
    "while True:\n",
    "\ttry:\n",
    "\t\ts2 = input() #如果输入数据结束，再执行input()会产生异常\n",
    "\texcept:\n",
    "\t\tbreak  #输入数据结束\n",
    "\tif isPopSeq(s1,s2):\n",
    "\t\tprint(\"YES\")\n",
    "\telse:\n",
    "\t\tprint(\"NO\")"
   ]
  },
  {
   "cell_type": "markdown",
   "metadata": {},
   "source": [
    "### 06646: 二叉树的深度"
   ]
  },
  {
   "cell_type": "code",
   "execution_count": 4,
   "metadata": {},
   "outputs": [
    {
     "ename": "RecursionError",
     "evalue": "maximum recursion depth exceeded",
     "output_type": "error",
     "traceback": [
      "\u001b[0;31m---------------------------------------------------------------------------\u001b[0m",
      "\u001b[0;31mRecursionError\u001b[0m                            Traceback (most recent call last)",
      "Cell \u001b[0;32mIn[4], line 24\u001b[0m\n\u001b[1;32m     21\u001b[0m         nodes[i]\u001b[38;5;241m.\u001b[39mright \u001b[38;5;241m=\u001b[39m nodes[right\u001b[38;5;241m-\u001b[39m\u001b[38;5;241m1\u001b[39m]\n\u001b[1;32m     23\u001b[0m root \u001b[38;5;241m=\u001b[39m nodes[\u001b[38;5;241m0\u001b[39m]\n\u001b[0;32m---> 24\u001b[0m \u001b[38;5;28mprint\u001b[39m(\u001b[43mtree_depth\u001b[49m\u001b[43m(\u001b[49m\u001b[43mroot\u001b[49m\u001b[43m)\u001b[49m)\n\u001b[1;32m     25\u001b[0m \u001b[38;5;28mprint\u001b[39m(root\u001b[38;5;241m.\u001b[39mval)\n",
      "Cell \u001b[0;32mIn[4], line 10\u001b[0m, in \u001b[0;36mtree_depth\u001b[0;34m(root)\u001b[0m\n\u001b[1;32m      8\u001b[0m \u001b[38;5;28;01mif\u001b[39;00m \u001b[38;5;129;01mnot\u001b[39;00m root:\n\u001b[1;32m      9\u001b[0m     \u001b[38;5;28;01mreturn\u001b[39;00m \u001b[38;5;241m0\u001b[39m\n\u001b[0;32m---> 10\u001b[0m left \u001b[38;5;241m=\u001b[39m \u001b[43mtree_depth\u001b[49m\u001b[43m(\u001b[49m\u001b[43mroot\u001b[49m\u001b[38;5;241;43m.\u001b[39;49m\u001b[43mleft\u001b[49m\u001b[43m)\u001b[49m\n\u001b[1;32m     11\u001b[0m right \u001b[38;5;241m=\u001b[39m tree_depth(root\u001b[38;5;241m.\u001b[39mright)\n\u001b[1;32m     12\u001b[0m \u001b[38;5;28;01mreturn\u001b[39;00m \u001b[38;5;28mmax\u001b[39m(left, right) \u001b[38;5;241m+\u001b[39m \u001b[38;5;241m1\u001b[39m\n",
      "Cell \u001b[0;32mIn[4], line 10\u001b[0m, in \u001b[0;36mtree_depth\u001b[0;34m(root)\u001b[0m\n\u001b[1;32m      8\u001b[0m \u001b[38;5;28;01mif\u001b[39;00m \u001b[38;5;129;01mnot\u001b[39;00m root:\n\u001b[1;32m      9\u001b[0m     \u001b[38;5;28;01mreturn\u001b[39;00m \u001b[38;5;241m0\u001b[39m\n\u001b[0;32m---> 10\u001b[0m left \u001b[38;5;241m=\u001b[39m \u001b[43mtree_depth\u001b[49m\u001b[43m(\u001b[49m\u001b[43mroot\u001b[49m\u001b[38;5;241;43m.\u001b[39;49m\u001b[43mleft\u001b[49m\u001b[43m)\u001b[49m\n\u001b[1;32m     11\u001b[0m right \u001b[38;5;241m=\u001b[39m tree_depth(root\u001b[38;5;241m.\u001b[39mright)\n\u001b[1;32m     12\u001b[0m \u001b[38;5;28;01mreturn\u001b[39;00m \u001b[38;5;28mmax\u001b[39m(left, right) \u001b[38;5;241m+\u001b[39m \u001b[38;5;241m1\u001b[39m\n",
      "    \u001b[0;31m[... skipping similar frames: tree_depth at line 10 (2970 times)]\u001b[0m\n",
      "Cell \u001b[0;32mIn[4], line 10\u001b[0m, in \u001b[0;36mtree_depth\u001b[0;34m(root)\u001b[0m\n\u001b[1;32m      8\u001b[0m \u001b[38;5;28;01mif\u001b[39;00m \u001b[38;5;129;01mnot\u001b[39;00m root:\n\u001b[1;32m      9\u001b[0m     \u001b[38;5;28;01mreturn\u001b[39;00m \u001b[38;5;241m0\u001b[39m\n\u001b[0;32m---> 10\u001b[0m left \u001b[38;5;241m=\u001b[39m \u001b[43mtree_depth\u001b[49m\u001b[43m(\u001b[49m\u001b[43mroot\u001b[49m\u001b[38;5;241;43m.\u001b[39;49m\u001b[43mleft\u001b[49m\u001b[43m)\u001b[49m\n\u001b[1;32m     11\u001b[0m right \u001b[38;5;241m=\u001b[39m tree_depth(root\u001b[38;5;241m.\u001b[39mright)\n\u001b[1;32m     12\u001b[0m \u001b[38;5;28;01mreturn\u001b[39;00m \u001b[38;5;28mmax\u001b[39m(left, right) \u001b[38;5;241m+\u001b[39m \u001b[38;5;241m1\u001b[39m\n",
      "\u001b[0;31mRecursionError\u001b[0m: maximum recursion depth exceeded"
     ]
    }
   ],
   "source": [
    "class TreeNode():\n",
    "    def __init__(self, x):\n",
    "        self.val = x\n",
    "        self.left = None\n",
    "        self.right = None\n",
    "\n",
    "def tree_depth(root):\n",
    "    if not root:\n",
    "        return 0\n",
    "    left = tree_depth(root.left)\n",
    "    right = tree_depth(root.right)\n",
    "    return max(left, right) + 1\n",
    "\n",
    "n = int(input())\n",
    "nodes = [TreeNode(i) for i in range(n)]\n",
    "for i in range(n):\n",
    "    left, right = map(int, input().split())\n",
    "    if left != -1:\n",
    "        nodes[i].left = nodes[left-1]\n",
    "    if right != -1:\n",
    "        nodes[i].right = nodes[right-1]\n",
    "\n",
    "root = nodes[0]\n",
    "print(tree_depth(root))\n",
    "print(root.val)"
   ]
  },
  {
   "cell_type": "markdown",
   "metadata": {},
   "source": [
    "### 02299: Ultra-Quicksort"
   ]
  },
  {
   "cell_type": "code",
   "execution_count": 53,
   "metadata": {},
   "outputs": [
    {
     "name": "stdout",
     "output_type": "stream",
     "text": [
      "6\n",
      "0\n"
     ]
    }
   ],
   "source": [
    "def merge_and_count(arr, left, mid, right):\n",
    "    swaps = 0\n",
    "    temp = [0] * (right - left + 1)\n",
    "    i, j, k = left, mid + 1, 0 # i is the index for the left subarray, j is the index for the right subarray, k is the index for the temp[] array\n",
    "    \n",
    "    # Merge the two parts into temp[]\n",
    "    while i <= mid and j <= right:\n",
    "        if arr[i] <= arr[j]: \n",
    "            temp[k] = arr[i]\n",
    "            i += 1\n",
    "        else:\n",
    "            temp[k] = arr[j]\n",
    "            j += 1\n",
    "            swaps += (mid - i + 1)  # Count the number of swaps\n",
    "        k += 1\n",
    "    \n",
    "    # Add the remaining elements in left part\n",
    "    while i <= mid:\n",
    "        temp[k] = arr[i]\n",
    "        k += 1\n",
    "        i += 1\n",
    "    \n",
    "    # Add the remaining elements in right part\n",
    "    while j <= right:\n",
    "        temp[k] = arr[j]\n",
    "        k += 1\n",
    "        j += 1\n",
    "    \n",
    "    # Copy back the merged elements to original array\n",
    "    for i in range(left, right + 1):\n",
    "        arr[i] = temp[i - left]\n",
    "    \n",
    "    return swaps\n",
    "\n",
    "def merge_sort(arr, left, right):\n",
    "    swaps = 0\n",
    "    if left < right:\n",
    "        mid = (left + right) // 2\n",
    "        swaps += merge_sort(arr, left, mid)\n",
    "        swaps += merge_sort(arr, mid + 1, right)\n",
    "        swaps += merge_and_count(arr, left, mid, right)\n",
    "    return swaps\n",
    "\n",
    "while True:\n",
    "    n = int(input())\n",
    "    if n == 0:\n",
    "        break\n",
    "    sequence = [int(input()) for _ in range(n)]\n",
    "    swaps = merge_sort(sequence, 0, n - 1)\n",
    "    print(swaps)\n"
   ]
  },
  {
   "cell_type": "markdown",
   "metadata": {},
   "source": []
  }
 ],
 "metadata": {
  "kernelspec": {
   "display_name": "py310",
   "language": "python",
   "name": "python3"
  },
  "language_info": {
   "codemirror_mode": {
    "name": "ipython",
    "version": 3
   },
   "file_extension": ".py",
   "mimetype": "text/x-python",
   "name": "python",
   "nbconvert_exporter": "python",
   "pygments_lexer": "ipython3",
   "version": "3.10.9"
  }
 },
 "nbformat": 4,
 "nbformat_minor": 2
}
